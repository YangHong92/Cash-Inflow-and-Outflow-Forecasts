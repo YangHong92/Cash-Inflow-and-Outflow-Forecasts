{
 "cells": [
  {
   "cell_type": "markdown",
   "id": "adverse-workstation",
   "metadata": {},
   "source": [
    "# Project Goal\n",
    "\n",
    "Prevent massive runs on funds by predicting fund purchase and redemption"
   ]
  },
  {
   "cell_type": "markdown",
   "id": "norman-tennis",
   "metadata": {},
   "source": [
    "# Project Overview\n",
    "\n",
    "https://tianchi.aliyun.com/competition/entrance/231573/information\n",
    "\n",
    "**Dataset Overview**\n",
    "\n",
    "4 tables: user_profile_table, user_balance_table, mfd_day_share_interest, mfd_bank_shibor\n",
    "\n",
    "28k customer，2840k behaviour data，294-day Shibor (Shanghai Interbank Offered Rate)，427-day yield\n",
    "\n",
    "Time range: \n",
    "2013-07-01 ~ 2014-08-31\n",
    "\n",
    "Predict:\n",
    "The purchase and redemption from 2014-09-01 ~ 2014-09-30\n",
    "\n",
    "\n",
    "**Tables Overview：**\n",
    "\n",
    "- 用户信息表 user_profile_table\n",
    "\n",
    "- 用户申购赎回数据 user_balance_table\n",
    "\n",
    "金额的单位是分，即0.01元\n",
    "\n",
    "如果用户今日消费总量为0，即consume_amt=0，同时四个category字段为空\n",
    "\n",
    "数据经过了脱敏，同时保证了：\n",
    "今日余额 = 昨日余额 + 今日申购 - 今日赎回，不会出现负值\n",
    "\n",
    "- 收益率表 mfd_day_share_interest\n",
    "\n",
    "- 上海银行间同业拆放利率表 mfd_bank_shibor\n",
    "\n",
    "**收益计算方式：**\n",
    "\n",
    "主要基于实际余额宝收益计算方法，进行了简化：\n",
    "\n",
    "1）收益计算的时间不再是会计日，而是自然日，以0点为分隔（0点之前算昨天，0点之后算今天）\n",
    "\n",
    "2）收益的显示时间，即实际将第一份收益打入用户账户的时间，以周一转入周三显示为例，如果用户在周一存入10000元，即1000000分，那么这笔金额是周一确认，周二是开始产生收益，在周三将周二产生的收益打入到用户的账户中，此时用户的账户中显示的是1000110分\n",
    "\n",
    "\n",
    "**提交结果格式：**\n",
    "\n",
    "每一行数据是report_date, purchase, redeem，即一天对申购、赎回总额的预测值，输出2014年9月每天的预测，共30行。 \n",
    "\n",
    "purchase 和 redeem 都是金额数据，精确到分\n",
    "\n",
    "\n",
    "**评估指标：**\n",
    "\n",
    "申购、赎回各自的相对误差。\n",
    "\n",
    "误差与得分之间的计算公式不公布，但保证单调递减第 i 天的申购误差Purchase_i=0 ，这一天的得分为10分；当Purchase_i > 0.3，得分为0。\n",
    "\n",
    "总积分 = 申购预测得分*45% + 赎回预测得分*55%\n",
    "\n",
    "申购和赎回每天总分=10，9月30天，因此 **总分 = 300分**。\n"
   ]
  },
  {
   "cell_type": "code",
   "execution_count": 154,
   "id": "social-stranger",
   "metadata": {
    "ExecuteTime": {
     "end_time": "2021-10-24T20:42:10.079205Z",
     "start_time": "2021-10-24T20:42:10.069079Z"
    }
   },
   "outputs": [],
   "source": [
    "import pandas as pd\n",
    "import numpy as np\n",
    "import matplotlib.pyplot as plt\n",
    "\n",
    "\n",
    "from statsmodels.tsa.arima_model import ARIMA\n",
    "import statsmodels.api as sm\n",
    "from statsmodels.tsa.stattools import adfuller\n",
    "\n",
    "\n",
    "from fbprophet import Prophet\n",
    "\n",
    "import warnings\n",
    "warnings.filterwarnings('ignore')"
   ]
  },
  {
   "cell_type": "markdown",
   "id": "structured-diamond",
   "metadata": {},
   "source": [
    "# Load Data"
   ]
  },
  {
   "cell_type": "code",
   "execution_count": 109,
   "id": "creative-helena",
   "metadata": {
    "ExecuteTime": {
     "end_time": "2021-10-24T14:25:08.526818Z",
     "start_time": "2021-10-24T14:25:05.111717Z"
    }
   },
   "outputs": [
    {
     "data": {
      "text/html": [
       "<div>\n",
       "<style scoped>\n",
       "    .dataframe tbody tr th:only-of-type {\n",
       "        vertical-align: middle;\n",
       "    }\n",
       "\n",
       "    .dataframe tbody tr th {\n",
       "        vertical-align: top;\n",
       "    }\n",
       "\n",
       "    .dataframe thead th {\n",
       "        text-align: right;\n",
       "    }\n",
       "</style>\n",
       "<table border=\"1\" class=\"dataframe\">\n",
       "  <thead>\n",
       "    <tr style=\"text-align: right;\">\n",
       "      <th></th>\n",
       "      <th>user_id</th>\n",
       "      <th>report_date</th>\n",
       "      <th>tBalance</th>\n",
       "      <th>yBalance</th>\n",
       "      <th>total_purchase_amt</th>\n",
       "      <th>direct_purchase_amt</th>\n",
       "      <th>purchase_bal_amt</th>\n",
       "      <th>purchase_bank_amt</th>\n",
       "      <th>total_redeem_amt</th>\n",
       "      <th>consume_amt</th>\n",
       "      <th>transfer_amt</th>\n",
       "      <th>tftobal_amt</th>\n",
       "      <th>tftocard_amt</th>\n",
       "      <th>share_amt</th>\n",
       "      <th>category1</th>\n",
       "      <th>category2</th>\n",
       "      <th>category3</th>\n",
       "      <th>category4</th>\n",
       "    </tr>\n",
       "  </thead>\n",
       "  <tbody>\n",
       "    <tr>\n",
       "      <th>0</th>\n",
       "      <td>1</td>\n",
       "      <td>2014-08-05</td>\n",
       "      <td>20385</td>\n",
       "      <td>20383</td>\n",
       "      <td>2</td>\n",
       "      <td>0</td>\n",
       "      <td>0</td>\n",
       "      <td>0</td>\n",
       "      <td>0</td>\n",
       "      <td>0</td>\n",
       "      <td>0</td>\n",
       "      <td>0</td>\n",
       "      <td>0</td>\n",
       "      <td>2</td>\n",
       "      <td>NaN</td>\n",
       "      <td>NaN</td>\n",
       "      <td>NaN</td>\n",
       "      <td>NaN</td>\n",
       "    </tr>\n",
       "    <tr>\n",
       "      <th>1</th>\n",
       "      <td>1</td>\n",
       "      <td>2014-08-08</td>\n",
       "      <td>20391</td>\n",
       "      <td>20389</td>\n",
       "      <td>2</td>\n",
       "      <td>0</td>\n",
       "      <td>0</td>\n",
       "      <td>0</td>\n",
       "      <td>0</td>\n",
       "      <td>0</td>\n",
       "      <td>0</td>\n",
       "      <td>0</td>\n",
       "      <td>0</td>\n",
       "      <td>2</td>\n",
       "      <td>NaN</td>\n",
       "      <td>NaN</td>\n",
       "      <td>NaN</td>\n",
       "      <td>NaN</td>\n",
       "    </tr>\n",
       "    <tr>\n",
       "      <th>2</th>\n",
       "      <td>1</td>\n",
       "      <td>2014-08-11</td>\n",
       "      <td>20397</td>\n",
       "      <td>20395</td>\n",
       "      <td>2</td>\n",
       "      <td>0</td>\n",
       "      <td>0</td>\n",
       "      <td>0</td>\n",
       "      <td>0</td>\n",
       "      <td>0</td>\n",
       "      <td>0</td>\n",
       "      <td>0</td>\n",
       "      <td>0</td>\n",
       "      <td>2</td>\n",
       "      <td>NaN</td>\n",
       "      <td>NaN</td>\n",
       "      <td>NaN</td>\n",
       "      <td>NaN</td>\n",
       "    </tr>\n",
       "    <tr>\n",
       "      <th>3</th>\n",
       "      <td>1</td>\n",
       "      <td>2014-08-14</td>\n",
       "      <td>20403</td>\n",
       "      <td>20401</td>\n",
       "      <td>2</td>\n",
       "      <td>0</td>\n",
       "      <td>0</td>\n",
       "      <td>0</td>\n",
       "      <td>0</td>\n",
       "      <td>0</td>\n",
       "      <td>0</td>\n",
       "      <td>0</td>\n",
       "      <td>0</td>\n",
       "      <td>2</td>\n",
       "      <td>NaN</td>\n",
       "      <td>NaN</td>\n",
       "      <td>NaN</td>\n",
       "      <td>NaN</td>\n",
       "    </tr>\n",
       "    <tr>\n",
       "      <th>4</th>\n",
       "      <td>1</td>\n",
       "      <td>2014-08-17</td>\n",
       "      <td>20409</td>\n",
       "      <td>20407</td>\n",
       "      <td>2</td>\n",
       "      <td>0</td>\n",
       "      <td>0</td>\n",
       "      <td>0</td>\n",
       "      <td>0</td>\n",
       "      <td>0</td>\n",
       "      <td>0</td>\n",
       "      <td>0</td>\n",
       "      <td>0</td>\n",
       "      <td>2</td>\n",
       "      <td>NaN</td>\n",
       "      <td>NaN</td>\n",
       "      <td>NaN</td>\n",
       "      <td>NaN</td>\n",
       "    </tr>\n",
       "  </tbody>\n",
       "</table>\n",
       "</div>"
      ],
      "text/plain": [
       "   user_id report_date  tBalance  yBalance  total_purchase_amt  \\\n",
       "0        1  2014-08-05     20385     20383                   2   \n",
       "1        1  2014-08-08     20391     20389                   2   \n",
       "2        1  2014-08-11     20397     20395                   2   \n",
       "3        1  2014-08-14     20403     20401                   2   \n",
       "4        1  2014-08-17     20409     20407                   2   \n",
       "\n",
       "   direct_purchase_amt  purchase_bal_amt  purchase_bank_amt  total_redeem_amt  \\\n",
       "0                    0                 0                  0                 0   \n",
       "1                    0                 0                  0                 0   \n",
       "2                    0                 0                  0                 0   \n",
       "3                    0                 0                  0                 0   \n",
       "4                    0                 0                  0                 0   \n",
       "\n",
       "   consume_amt  transfer_amt  tftobal_amt  tftocard_amt  share_amt  category1  \\\n",
       "0            0             0            0             0          2        NaN   \n",
       "1            0             0            0             0          2        NaN   \n",
       "2            0             0            0             0          2        NaN   \n",
       "3            0             0            0             0          2        NaN   \n",
       "4            0             0            0             0          2        NaN   \n",
       "\n",
       "   category2  category3  category4  \n",
       "0        NaN        NaN        NaN  \n",
       "1        NaN        NaN        NaN  \n",
       "2        NaN        NaN        NaN  \n",
       "3        NaN        NaN        NaN  \n",
       "4        NaN        NaN        NaN  "
      ]
     },
     "execution_count": 109,
     "metadata": {},
     "output_type": "execute_result"
    }
   ],
   "source": [
    "data = pd.read_csv('data/user_balance_table.csv', parse_dates = ['report_date'])\n",
    "data.head()"
   ]
  },
  {
   "cell_type": "code",
   "execution_count": 167,
   "id": "nominated-narrow",
   "metadata": {
    "ExecuteTime": {
     "end_time": "2021-10-24T23:47:51.367574Z",
     "start_time": "2021-10-24T23:47:50.904811Z"
    }
   },
   "outputs": [
    {
     "name": "stdout",
     "output_type": "stream",
     "text": [
      "user_id                      0\n",
      "report_date                  0\n",
      "tBalance                     0\n",
      "yBalance                     0\n",
      "total_purchase_amt           0\n",
      "direct_purchase_amt          0\n",
      "purchase_bal_amt             0\n",
      "purchase_bank_amt            0\n",
      "total_redeem_amt             0\n",
      "consume_amt                  0\n",
      "transfer_amt                 0\n",
      "tftobal_amt                  0\n",
      "tftocard_amt                 0\n",
      "share_amt                    0\n",
      "category1              2666682\n",
      "category2              2666682\n",
      "category3              2666682\n",
      "category4              2666682\n",
      "dtype: int64\n"
     ]
    }
   ],
   "source": [
    "print(data.isnull().sum())"
   ]
  },
  {
   "cell_type": "code",
   "execution_count": 168,
   "id": "flexible-apparel",
   "metadata": {
    "ExecuteTime": {
     "end_time": "2021-10-24T23:48:04.343375Z",
     "start_time": "2021-10-24T23:48:04.285955Z"
    }
   },
   "outputs": [
    {
     "name": "stdout",
     "output_type": "stream",
     "text": [
      "<class 'pandas.core.frame.DataFrame'>\n",
      "RangeIndex: 2840421 entries, 0 to 2840420\n",
      "Data columns (total 18 columns):\n",
      " #   Column               Dtype         \n",
      "---  ------               -----         \n",
      " 0   user_id              int64         \n",
      " 1   report_date          datetime64[ns]\n",
      " 2   tBalance             int64         \n",
      " 3   yBalance             int64         \n",
      " 4   total_purchase_amt   int64         \n",
      " 5   direct_purchase_amt  int64         \n",
      " 6   purchase_bal_amt     int64         \n",
      " 7   purchase_bank_amt    int64         \n",
      " 8   total_redeem_amt     int64         \n",
      " 9   consume_amt          int64         \n",
      " 10  transfer_amt         int64         \n",
      " 11  tftobal_amt          int64         \n",
      " 12  tftocard_amt         int64         \n",
      " 13  share_amt            int64         \n",
      " 14  category1            float64       \n",
      " 15  category2            float64       \n",
      " 16  category3            float64       \n",
      " 17  category4            float64       \n",
      "dtypes: datetime64[ns](1), float64(4), int64(13)\n",
      "memory usage: 390.1 MB\n"
     ]
    }
   ],
   "source": [
    "data.info()"
   ]
  },
  {
   "cell_type": "code",
   "execution_count": 111,
   "id": "vocational-option",
   "metadata": {
    "ExecuteTime": {
     "end_time": "2021-10-24T14:25:08.609039Z",
     "start_time": "2021-10-24T14:25:08.544469Z"
    }
   },
   "outputs": [
    {
     "data": {
      "text/plain": [
       "427"
      ]
     },
     "execution_count": 111,
     "metadata": {},
     "output_type": "execute_result"
    }
   ],
   "source": [
    "data['report_date'].nunique()"
   ]
  },
  {
   "cell_type": "markdown",
   "id": "accepting-klein",
   "metadata": {},
   "source": [
    "### Thought:\n",
    "\n",
    "since data['report_date'].nunique() < data.shape[0], we need to aggregate y (y1: 'total_purchase_amt', y2: 'total_redeem_amt') by grouping 'report_date'"
   ]
  },
  {
   "cell_type": "markdown",
   "id": "adapted-loading",
   "metadata": {},
   "source": [
    "# Data Process"
   ]
  },
  {
   "cell_type": "markdown",
   "id": "original-insured",
   "metadata": {},
   "source": [
    "## sum purchase & redeem over each 'report_date'"
   ]
  },
  {
   "cell_type": "code",
   "execution_count": 112,
   "id": "dietary-tennis",
   "metadata": {
    "ExecuteTime": {
     "end_time": "2021-10-24T14:25:08.761234Z",
     "start_time": "2021-10-24T14:25:08.611691Z"
    }
   },
   "outputs": [
    {
     "data": {
      "text/html": [
       "<div>\n",
       "<style scoped>\n",
       "    .dataframe tbody tr th:only-of-type {\n",
       "        vertical-align: middle;\n",
       "    }\n",
       "\n",
       "    .dataframe tbody tr th {\n",
       "        vertical-align: top;\n",
       "    }\n",
       "\n",
       "    .dataframe thead th {\n",
       "        text-align: right;\n",
       "    }\n",
       "</style>\n",
       "<table border=\"1\" class=\"dataframe\">\n",
       "  <thead>\n",
       "    <tr style=\"text-align: right;\">\n",
       "      <th></th>\n",
       "      <th>total_purchase_amt</th>\n",
       "      <th>total_redeem_amt</th>\n",
       "    </tr>\n",
       "    <tr>\n",
       "      <th>report_date</th>\n",
       "      <th></th>\n",
       "      <th></th>\n",
       "    </tr>\n",
       "  </thead>\n",
       "  <tbody>\n",
       "    <tr>\n",
       "      <th>2013-07-01</th>\n",
       "      <td>32488348</td>\n",
       "      <td>5525022</td>\n",
       "    </tr>\n",
       "    <tr>\n",
       "      <th>2013-07-02</th>\n",
       "      <td>29037390</td>\n",
       "      <td>2554548</td>\n",
       "    </tr>\n",
       "    <tr>\n",
       "      <th>2013-07-03</th>\n",
       "      <td>27270770</td>\n",
       "      <td>5953867</td>\n",
       "    </tr>\n",
       "    <tr>\n",
       "      <th>2013-07-04</th>\n",
       "      <td>18321185</td>\n",
       "      <td>6410729</td>\n",
       "    </tr>\n",
       "    <tr>\n",
       "      <th>2013-07-05</th>\n",
       "      <td>11648749</td>\n",
       "      <td>2763587</td>\n",
       "    </tr>\n",
       "  </tbody>\n",
       "</table>\n",
       "</div>"
      ],
      "text/plain": [
       "             total_purchase_amt  total_redeem_amt\n",
       "report_date                                      \n",
       "2013-07-01             32488348           5525022\n",
       "2013-07-02             29037390           2554548\n",
       "2013-07-03             27270770           5953867\n",
       "2013-07-04             18321185           6410729\n",
       "2013-07-05             11648749           2763587"
      ]
     },
     "execution_count": 112,
     "metadata": {},
     "output_type": "execute_result"
    }
   ],
   "source": [
    "df = data.groupby(['report_date'])[['total_purchase_amt', 'total_redeem_amt']].sum()\n",
    "df.head()"
   ]
  },
  {
   "cell_type": "code",
   "execution_count": 113,
   "id": "indie-burton",
   "metadata": {
    "ExecuteTime": {
     "end_time": "2021-10-24T14:25:08.876024Z",
     "start_time": "2021-10-24T14:25:08.866818Z"
    }
   },
   "outputs": [
    {
     "data": {
      "text/html": [
       "<div>\n",
       "<style scoped>\n",
       "    .dataframe tbody tr th:only-of-type {\n",
       "        vertical-align: middle;\n",
       "    }\n",
       "\n",
       "    .dataframe tbody tr th {\n",
       "        vertical-align: top;\n",
       "    }\n",
       "\n",
       "    .dataframe thead th {\n",
       "        text-align: right;\n",
       "    }\n",
       "</style>\n",
       "<table border=\"1\" class=\"dataframe\">\n",
       "  <thead>\n",
       "    <tr style=\"text-align: right;\">\n",
       "      <th></th>\n",
       "      <th>total_purchase_amt</th>\n",
       "    </tr>\n",
       "    <tr>\n",
       "      <th>report_date</th>\n",
       "      <th></th>\n",
       "    </tr>\n",
       "  </thead>\n",
       "  <tbody>\n",
       "    <tr>\n",
       "      <th>2014-08-27</th>\n",
       "      <td>302194801</td>\n",
       "    </tr>\n",
       "    <tr>\n",
       "      <th>2014-08-28</th>\n",
       "      <td>245082751</td>\n",
       "    </tr>\n",
       "    <tr>\n",
       "      <th>2014-08-29</th>\n",
       "      <td>267554713</td>\n",
       "    </tr>\n",
       "    <tr>\n",
       "      <th>2014-08-30</th>\n",
       "      <td>199708772</td>\n",
       "    </tr>\n",
       "    <tr>\n",
       "      <th>2014-08-31</th>\n",
       "      <td>275090213</td>\n",
       "    </tr>\n",
       "  </tbody>\n",
       "</table>\n",
       "</div>"
      ],
      "text/plain": [
       "             total_purchase_amt\n",
       "report_date                    \n",
       "2014-08-27            302194801\n",
       "2014-08-28            245082751\n",
       "2014-08-29            267554713\n",
       "2014-08-30            199708772\n",
       "2014-08-31            275090213"
      ]
     },
     "execution_count": 113,
     "metadata": {},
     "output_type": "execute_result"
    }
   ],
   "source": [
    "purchase = df[['total_purchase_amt']]\n",
    "\n",
    "redeem = df[['total_redeem_amt']]\n",
    "\n",
    "purchase.tail()"
   ]
  },
  {
   "cell_type": "code",
   "execution_count": 114,
   "id": "guided-kitchen",
   "metadata": {
    "ExecuteTime": {
     "end_time": "2021-10-24T14:25:09.710880Z",
     "start_time": "2021-10-24T14:25:09.705097Z"
    }
   },
   "outputs": [],
   "source": [
    "# save python object, and loading is 10 times faster than raw data loading\n",
    "\n",
    "# purchase.to_pickle('./data/purchase.pkl')\n",
    "# redeem.to_pickle('./data/redeem.pkl')"
   ]
  },
  {
   "cell_type": "markdown",
   "id": "loved-produce",
   "metadata": {},
   "source": [
    "# Time Series Visualisation for Purchase & Redemption "
   ]
  },
  {
   "cell_type": "markdown",
   "id": "sunset-spectacular",
   "metadata": {},
   "source": [
    "## seasonal_decompose"
   ]
  },
  {
   "cell_type": "code",
   "execution_count": 58,
   "id": "surrounded-webster",
   "metadata": {
    "ExecuteTime": {
     "end_time": "2021-10-23T23:26:06.907067Z",
     "start_time": "2021-10-23T23:26:06.902957Z"
    }
   },
   "outputs": [],
   "source": [
    "# 对于指定时间范围的data进行可视化\n",
    "def plot_stl(data):\n",
    "    result = sm.tsa.seasonal_decompose(data, period = 30)\n",
    "    \n",
    "    # trend, seasonal, residual\n",
    "    fig = plt.figure(figsize = (12,8))\n",
    "    ax1 = fig.add_subplot(3,1,1)\n",
    "    ax2 = fig.add_subplot(3,1,2)\n",
    "    ax3 = fig.add_subplot(3,1,3)\n",
    "    \n",
    "    result.trend.plot(ax=ax1, title=\"Trend\")\n",
    "    result.seasonal.plot(ax=ax2, title=\"Seasonal\")\n",
    "    result.resid.plot(ax=ax3, title=\"Residual\")\n",
    "    "
   ]
  },
  {
   "cell_type": "code",
   "execution_count": 59,
   "id": "residential-shower",
   "metadata": {
    "ExecuteTime": {
     "end_time": "2021-10-23T23:26:08.096518Z",
     "start_time": "2021-10-23T23:26:07.709740Z"
    }
   },
   "outputs": [
    {
     "data": {
      "image/png": "[encoded data removed]",
      "text/plain": [
       "<Figure size 864x576 with 3 Axes>"
      ]
     },
     "metadata": {
      "needs_background": "light"
     },
     "output_type": "display_data"
    }
   ],
   "source": [
    "plot_stl(purchase)"
   ]
  },
  {
   "cell_type": "code",
   "execution_count": 60,
   "id": "unique-damages",
   "metadata": {
    "ExecuteTime": {
     "end_time": "2021-10-23T23:26:08.572451Z",
     "start_time": "2021-10-23T23:26:08.155924Z"
    }
   },
   "outputs": [
    {
     "data": {
      "image/png": "[encoded data removed]",
      "text/plain": [
       "<Figure size 864x576 with 3 Axes>"
      ]
     },
     "metadata": {
      "needs_background": "light"
     },
     "output_type": "display_data"
    }
   ],
   "source": [
    "plot_stl(redeem)"
   ]
  },
  {
   "cell_type": "markdown",
   "id": "encouraging-currency",
   "metadata": {},
   "source": [
    "# Simple Model Prediction (only use report_date, purchase, redemption)\n",
    "\n",
    "# 1. Baseline: ARIMA"
   ]
  },
  {
   "cell_type": "markdown",
   "id": "incomplete-script",
   "metadata": {},
   "source": [
    "## AdFuller Test for Analysing the Stationary of Series\n",
    "\n",
    "- 平稳性检测（ADF检测）:\n",
    "\n",
    "在使用时间序列模型时（比如 ARMA、ARIMA），需要时间序列是平稳的，所以第一步都需要进行平稳性检验。\n",
    "\n",
    "常用的统计检验方法为ADF检验（也称为单位根检验）。\n",
    "\n",
    "ADF检验，就是判断序列是否存在单位根，如果序列平稳，就不存在单位根，否则，就会存在单位根。\n",
    "\n",
    "- ADF检验的 **${H_0}$ 假设**:\n",
    "\n",
    "存在单位根 or **数据不平稳**。\n",
    "\n",
    "如果得到的显著性检验统计量小于三个置信度（10\\%，5\\%，1\\%），则对应有（90\\%，95\\%，99\\%）的把握来拒绝原假设。\n",
    "\n"
   ]
  },
  {
   "cell_type": "code",
   "execution_count": 116,
   "id": "distinct-latter",
   "metadata": {
    "ExecuteTime": {
     "end_time": "2021-10-24T14:25:52.884838Z",
     "start_time": "2021-10-24T14:25:52.880234Z"
    }
   },
   "outputs": [],
   "source": [
    "with open('./data/purchase.pkl', 'rb') as file:\n",
    "    purchase = pickle.load(file)\n",
    "\n",
    "with open('./data/redeem.pkl', 'rb') as file:\n",
    "    redeem = pickle.load(file)"
   ]
  },
  {
   "cell_type": "markdown",
   "id": "affiliated-routine",
   "metadata": {},
   "source": [
    "## fit purchase: ARIMA d=1"
   ]
  },
  {
   "cell_type": "code",
   "execution_count": 61,
   "id": "social-analysis",
   "metadata": {
    "ExecuteTime": {
     "end_time": "2021-10-23T23:26:22.310603Z",
     "start_time": "2021-10-23T23:26:22.276457Z"
    }
   },
   "outputs": [
    {
     "data": {
      "text/plain": [
       "(-1.5898802926313507,\n",
       " 0.4886749751375928,\n",
       " 18,\n",
       " 408,\n",
       " {'1%': -3.446479704252724,\n",
       "  '5%': -2.8686500930967354,\n",
       "  '10%': -2.5705574627547096},\n",
       " 15960.28197033403)"
      ]
     },
     "execution_count": 61,
     "metadata": {},
     "output_type": "execute_result"
    }
   ],
   "source": [
    "# sometimes you need a bit convertion: adfuller(df.iloc[:,0].values)\n",
    "t = adfuller(purchase)\n",
    "t\n",
    "\n",
    "# t = -1.58988 > 10% p-value，H0 can't be rejected"
   ]
  },
  {
   "cell_type": "code",
   "execution_count": 62,
   "id": "vital-treaty",
   "metadata": {
    "ExecuteTime": {
     "end_time": "2021-10-23T23:26:23.862591Z",
     "start_time": "2021-10-23T23:26:23.853604Z"
    }
   },
   "outputs": [
    {
     "data": {
      "text/html": [
       "<div>\n",
       "<style scoped>\n",
       "    .dataframe tbody tr th:only-of-type {\n",
       "        vertical-align: middle;\n",
       "    }\n",
       "\n",
       "    .dataframe tbody tr th {\n",
       "        vertical-align: top;\n",
       "    }\n",
       "\n",
       "    .dataframe thead th {\n",
       "        text-align: right;\n",
       "    }\n",
       "</style>\n",
       "<table border=\"1\" class=\"dataframe\">\n",
       "  <thead>\n",
       "    <tr style=\"text-align: right;\">\n",
       "      <th></th>\n",
       "      <th>total_purchase_amt</th>\n",
       "    </tr>\n",
       "    <tr>\n",
       "      <th>report_date</th>\n",
       "      <th></th>\n",
       "    </tr>\n",
       "  </thead>\n",
       "  <tbody>\n",
       "    <tr>\n",
       "      <th>2013-07-01</th>\n",
       "      <td>NaN</td>\n",
       "    </tr>\n",
       "    <tr>\n",
       "      <th>2013-07-02</th>\n",
       "      <td>-3450958.0</td>\n",
       "    </tr>\n",
       "    <tr>\n",
       "      <th>2013-07-03</th>\n",
       "      <td>-1766620.0</td>\n",
       "    </tr>\n",
       "    <tr>\n",
       "      <th>2013-07-04</th>\n",
       "      <td>-8949585.0</td>\n",
       "    </tr>\n",
       "    <tr>\n",
       "      <th>2013-07-05</th>\n",
       "      <td>-6672436.0</td>\n",
       "    </tr>\n",
       "    <tr>\n",
       "      <th>...</th>\n",
       "      <td>...</td>\n",
       "    </tr>\n",
       "    <tr>\n",
       "      <th>2014-08-27</th>\n",
       "      <td>-4750288.0</td>\n",
       "    </tr>\n",
       "    <tr>\n",
       "      <th>2014-08-28</th>\n",
       "      <td>-57112050.0</td>\n",
       "    </tr>\n",
       "    <tr>\n",
       "      <th>2014-08-29</th>\n",
       "      <td>22471962.0</td>\n",
       "    </tr>\n",
       "    <tr>\n",
       "      <th>2014-08-30</th>\n",
       "      <td>-67845941.0</td>\n",
       "    </tr>\n",
       "    <tr>\n",
       "      <th>2014-08-31</th>\n",
       "      <td>75381441.0</td>\n",
       "    </tr>\n",
       "  </tbody>\n",
       "</table>\n",
       "<p>427 rows × 1 columns</p>\n",
       "</div>"
      ],
      "text/plain": [
       "             total_purchase_amt\n",
       "report_date                    \n",
       "2013-07-01                  NaN\n",
       "2013-07-02           -3450958.0\n",
       "2013-07-03           -1766620.0\n",
       "2013-07-04           -8949585.0\n",
       "2013-07-05           -6672436.0\n",
       "...                         ...\n",
       "2014-08-27           -4750288.0\n",
       "2014-08-28          -57112050.0\n",
       "2014-08-29           22471962.0\n",
       "2014-08-30          -67845941.0\n",
       "2014-08-31           75381441.0\n",
       "\n",
       "[427 rows x 1 columns]"
      ]
     },
     "execution_count": 62,
     "metadata": {},
     "output_type": "execute_result"
    }
   ],
   "source": [
    "diff1 = purchase.diff(1)\n",
    "diff1"
   ]
  },
  {
   "cell_type": "code",
   "execution_count": 63,
   "id": "found-maintenance",
   "metadata": {
    "ExecuteTime": {
     "end_time": "2021-10-23T23:26:24.591955Z",
     "start_time": "2021-10-23T23:26:24.573769Z"
    }
   },
   "outputs": [
    {
     "data": {
      "text/plain": [
       "(-7.947102224652354,\n",
       " 3.1981868624879897e-12,\n",
       " 18,\n",
       " 407,\n",
       " {'1%': -3.4465195891135845,\n",
       "  '5%': -2.8686676281678634,\n",
       "  '10%': -2.5705668101226085},\n",
       " 15918.844657651942)"
      ]
     },
     "execution_count": 63,
     "metadata": {},
     "output_type": "execute_result"
    }
   ],
   "source": [
    "t = adfuller(diff1[1:])\n",
    "t\n",
    "\n",
    "# t = -7.94710 < 1% p-value，H0 is rejected"
   ]
  },
  {
   "cell_type": "markdown",
   "id": "patent-briefs",
   "metadata": {},
   "source": [
    "### Thought:\n",
    "\n",
    "For purchase, d = 1 (takes difference 1 time), now the time series is stationary."
   ]
  },
  {
   "cell_type": "code",
   "execution_count": 64,
   "id": "dated-maker",
   "metadata": {
    "ExecuteTime": {
     "end_time": "2021-10-23T23:26:26.995415Z",
     "start_time": "2021-10-23T23:26:26.771613Z"
    }
   },
   "outputs": [
    {
     "data": {
      "text/plain": [
       "<AxesSubplot:xlabel='report_date'>"
      ]
     },
     "execution_count": 64,
     "metadata": {},
     "output_type": "execute_result"
    },
    {
     "data": {
      "image/png": "[encoded data removed]",
      "text/plain": [
       "<Figure size 432x288 with 1 Axes>"
      ]
     },
     "metadata": {
      "needs_background": "light"
     },
     "output_type": "display_data"
    }
   ],
   "source": [
    "diff1[1:].plot()"
   ]
  },
  {
   "cell_type": "code",
   "execution_count": 117,
   "id": "compliant-sector",
   "metadata": {
    "ExecuteTime": {
     "end_time": "2021-10-24T14:26:02.979772Z",
     "start_time": "2021-10-24T14:25:58.983411Z"
    }
   },
   "outputs": [
    {
     "data": {
      "text/plain": [
       "2014-09-01    3.310521e+08\n",
       "2014-09-02    3.318773e+08\n",
       "2014-09-03    3.338918e+08\n",
       "2014-09-04    2.983190e+08\n",
       "2014-09-05    2.407522e+08\n",
       "2014-09-06    2.266125e+08\n",
       "2014-09-07    2.435553e+08\n",
       "2014-09-08    2.970862e+08\n",
       "2014-09-09    3.321273e+08\n",
       "2014-09-10    3.265214e+08\n",
       "2014-09-11    2.916840e+08\n",
       "2014-09-12    2.392709e+08\n",
       "2014-09-13    2.253541e+08\n",
       "2014-09-14    2.475277e+08\n",
       "2014-09-15    2.950938e+08\n",
       "2014-09-16    3.345007e+08\n",
       "2014-09-17    3.280834e+08\n",
       "2014-09-18    2.927105e+08\n",
       "2014-09-19    2.448967e+08\n",
       "2014-09-20    2.275707e+08\n",
       "2014-09-21    2.530214e+08\n",
       "2014-09-22    2.980719e+08\n",
       "2014-09-23    3.366749e+08\n",
       "2014-09-24    3.321960e+08\n",
       "2014-09-25    2.947118e+08\n",
       "2014-09-26    2.505380e+08\n",
       "2014-09-27    2.318264e+08\n",
       "2014-09-28    2.574456e+08\n",
       "2014-09-29    3.025698e+08\n",
       "2014-09-30    3.387025e+08\n",
       "Freq: D, dtype: float64"
      ]
     },
     "execution_count": 117,
     "metadata": {},
     "output_type": "execute_result"
    }
   ],
   "source": [
    "model = ARIMA(purchase,order=(7,1,5)).fit()\n",
    "\n",
    "# typ = 'levels': 反差分，不加则结果是平稳序列下的结果\n",
    "purchase_pred = model.predict('2014-09-01', '2014-09-30', typ = 'levels')\n",
    "\n",
    "purchase_pred"
   ]
  },
  {
   "cell_type": "code",
   "execution_count": 66,
   "id": "existing-crystal",
   "metadata": {
    "ExecuteTime": {
     "end_time": "2021-10-23T23:26:33.373894Z",
     "start_time": "2021-10-23T23:26:33.157085Z"
    }
   },
   "outputs": [
    {
     "data": {
      "image/png": "[encoded data removed]",
      "text/plain": [
       "<Figure size 432x288 with 1 Axes>"
      ]
     },
     "metadata": {
      "needs_background": "light"
     },
     "output_type": "display_data"
    }
   ],
   "source": [
    "purchase_pred.plot()\n",
    "plt.show()"
   ]
  },
  {
   "cell_type": "code",
   "execution_count": 67,
   "id": "continental-stationery",
   "metadata": {
    "ExecuteTime": {
     "end_time": "2021-10-23T23:26:33.599947Z",
     "start_time": "2021-10-23T23:26:33.376392Z"
    }
   },
   "outputs": [
    {
     "data": {
      "image/png": "[encoded data removed]",
      "text/plain": [
       "<Figure size 432x288 with 1 Axes>"
      ]
     },
     "metadata": {
      "needs_background": "light"
     },
     "output_type": "display_data"
    }
   ],
   "source": [
    "# compare with last month\n",
    "purchase[(purchase.index >= '2014-08-01') & (purchase.index <= '2014-08-31')].plot()\n",
    "plt.show()"
   ]
  },
  {
   "cell_type": "markdown",
   "id": "optical-slave",
   "metadata": {},
   "source": [
    "## fit redeem: ARIMA d=1"
   ]
  },
  {
   "cell_type": "code",
   "execution_count": 68,
   "id": "satellite-threat",
   "metadata": {
    "ExecuteTime": {
     "end_time": "2021-10-23T23:26:33.955207Z",
     "start_time": "2021-10-23T23:26:33.935459Z"
    }
   },
   "outputs": [
    {
     "data": {
      "text/plain": [
       "(-1.3724136798283428,\n",
       " 0.5954275877949456,\n",
       " 13,\n",
       " 413,\n",
       " {'1%': -3.4462831955497135,\n",
       "  '5%': -2.8685636962704395,\n",
       "  '10%': -2.5705114078759914},\n",
       " 15816.780952766481)"
      ]
     },
     "execution_count": 68,
     "metadata": {},
     "output_type": "execute_result"
    }
   ],
   "source": [
    "t = adfuller(redeem)\n",
    "t"
   ]
  },
  {
   "cell_type": "code",
   "execution_count": 69,
   "id": "governing-jamaica",
   "metadata": {
    "ExecuteTime": {
     "end_time": "2021-10-23T23:26:34.304394Z",
     "start_time": "2021-10-23T23:26:34.285869Z"
    }
   },
   "outputs": [
    {
     "data": {
      "text/plain": [
       "(-11.69198690696882,\n",
       " 1.6443717458499181e-21,\n",
       " 12,\n",
       " 413,\n",
       " {'1%': -3.4462831955497135,\n",
       "  '5%': -2.8685636962704395,\n",
       "  '10%': -2.5705114078759914},\n",
       " 15779.04993673871)"
      ]
     },
     "execution_count": 69,
     "metadata": {},
     "output_type": "execute_result"
    }
   ],
   "source": [
    "diff1 = redeem.diff(1)\n",
    "\n",
    "t = adfuller(diff1[1:])\n",
    "t"
   ]
  },
  {
   "cell_type": "markdown",
   "id": "indian-brunswick",
   "metadata": {},
   "source": [
    "差分了1次，通过了平稳性检验。"
   ]
  },
  {
   "cell_type": "code",
   "execution_count": 70,
   "id": "musical-column",
   "metadata": {
    "ExecuteTime": {
     "end_time": "2021-10-23T23:26:35.453757Z",
     "start_time": "2021-10-23T23:26:35.277704Z"
    }
   },
   "outputs": [
    {
     "data": {
      "text/plain": [
       "<AxesSubplot:xlabel='report_date'>"
      ]
     },
     "execution_count": 70,
     "metadata": {},
     "output_type": "execute_result"
    },
    {
     "data": {
      "image/png": "[encoded data removed]",
      "text/plain": [
       "<Figure size 432x288 with 1 Axes>"
      ]
     },
     "metadata": {
      "needs_background": "light"
     },
     "output_type": "display_data"
    }
   ],
   "source": [
    "diff1[1:].plot()"
   ]
  },
  {
   "cell_type": "code",
   "execution_count": 118,
   "id": "opening-broadcasting",
   "metadata": {
    "ExecuteTime": {
     "end_time": "2021-10-24T14:26:17.844577Z",
     "start_time": "2021-10-24T14:26:15.513272Z"
    }
   },
   "outputs": [
    {
     "data": {
      "text/plain": [
       "2014-09-01    3.169075e+08\n",
       "2014-09-02    3.372505e+08\n",
       "2014-09-03    3.632469e+08\n",
       "2014-09-04    3.074799e+08\n",
       "2014-09-05    2.628073e+08\n",
       "2014-09-06    2.258814e+08\n",
       "2014-09-07    2.592213e+08\n",
       "2014-09-08    3.115544e+08\n",
       "2014-09-09    3.477534e+08\n",
       "2014-09-10    3.562478e+08\n",
       "2014-09-11    3.092846e+08\n",
       "2014-09-12    2.598568e+08\n",
       "2014-09-13    2.339211e+08\n",
       "2014-09-14    2.578268e+08\n",
       "2014-09-15    3.125563e+08\n",
       "2014-09-16    3.537340e+08\n",
       "2014-09-17    3.573688e+08\n",
       "2014-09-18    3.146285e+08\n",
       "2014-09-19    2.626671e+08\n",
       "2014-09-20    2.387526e+08\n",
       "2014-09-21    2.616259e+08\n",
       "2014-09-22    3.157237e+08\n",
       "2014-09-23    3.588209e+08\n",
       "2014-09-24    3.611614e+08\n",
       "2014-09-25    3.198025e+08\n",
       "2014-09-26    2.672118e+08\n",
       "2014-09-27    2.432922e+08\n",
       "2014-09-28    2.661254e+08\n",
       "2014-09-29    3.197189e+08\n",
       "2014-09-30    3.635570e+08\n",
       "Freq: D, dtype: float64"
      ]
     },
     "execution_count": 118,
     "metadata": {},
     "output_type": "execute_result"
    }
   ],
   "source": [
    "model2 = ARIMA(redeem, order=(7,1,5)).fit()\n",
    "\n",
    "# typ='levels': 反差分\n",
    "redeem_pred = model2.predict('2014-09-01', '2014-09-30', typ='levels')\n",
    "\n",
    "redeem_pred"
   ]
  },
  {
   "cell_type": "code",
   "execution_count": 72,
   "id": "victorian-translation",
   "metadata": {
    "ExecuteTime": {
     "end_time": "2021-10-23T23:26:42.184971Z",
     "start_time": "2021-10-23T23:26:41.963115Z"
    }
   },
   "outputs": [
    {
     "data": {
      "image/png": "[encoded data removed]",
      "text/plain": [
       "<Figure size 432x288 with 1 Axes>"
      ]
     },
     "metadata": {
      "needs_background": "light"
     },
     "output_type": "display_data"
    }
   ],
   "source": [
    "redeem_pred.plot()\n",
    "plt.show()"
   ]
  },
  {
   "cell_type": "code",
   "execution_count": 73,
   "id": "collective-breath",
   "metadata": {
    "ExecuteTime": {
     "end_time": "2021-10-23T23:26:42.410282Z",
     "start_time": "2021-10-23T23:26:42.187502Z"
    }
   },
   "outputs": [
    {
     "data": {
      "image/png": "[encoded data removed]",
      "text/plain": [
       "<Figure size 432x288 with 1 Axes>"
      ]
     },
     "metadata": {
      "needs_background": "light"
     },
     "output_type": "display_data"
    }
   ],
   "source": [
    "# compare with last month\n",
    "redeem[(redeem.index >= '2014-08-01') & (redeem.index <= '2014-08-31')].plot()\n",
    "plt.show()"
   ]
  },
  {
   "cell_type": "markdown",
   "id": "joined-fireplace",
   "metadata": {},
   "source": [
    "## combine purchase prediction & redeem prediction"
   ]
  },
  {
   "cell_type": "code",
   "execution_count": 119,
   "id": "olympic-england",
   "metadata": {
    "ExecuteTime": {
     "end_time": "2021-10-24T14:26:26.612228Z",
     "start_time": "2021-10-24T14:26:26.600086Z"
    }
   },
   "outputs": [
    {
     "data": {
      "text/html": [
       "<div>\n",
       "<style scoped>\n",
       "    .dataframe tbody tr th:only-of-type {\n",
       "        vertical-align: middle;\n",
       "    }\n",
       "\n",
       "    .dataframe tbody tr th {\n",
       "        vertical-align: top;\n",
       "    }\n",
       "\n",
       "    .dataframe thead th {\n",
       "        text-align: right;\n",
       "    }\n",
       "</style>\n",
       "<table border=\"1\" class=\"dataframe\">\n",
       "  <thead>\n",
       "    <tr style=\"text-align: right;\">\n",
       "      <th></th>\n",
       "      <th>report_date</th>\n",
       "      <th>purchase</th>\n",
       "      <th>redeem</th>\n",
       "    </tr>\n",
       "  </thead>\n",
       "  <tbody>\n",
       "    <tr>\n",
       "      <th>0</th>\n",
       "      <td>20140901</td>\n",
       "      <td>3.310521e+08</td>\n",
       "      <td>3.169075e+08</td>\n",
       "    </tr>\n",
       "    <tr>\n",
       "      <th>1</th>\n",
       "      <td>20140902</td>\n",
       "      <td>3.318773e+08</td>\n",
       "      <td>3.372505e+08</td>\n",
       "    </tr>\n",
       "    <tr>\n",
       "      <th>2</th>\n",
       "      <td>20140903</td>\n",
       "      <td>3.338918e+08</td>\n",
       "      <td>3.632469e+08</td>\n",
       "    </tr>\n",
       "    <tr>\n",
       "      <th>3</th>\n",
       "      <td>20140904</td>\n",
       "      <td>2.983190e+08</td>\n",
       "      <td>3.074799e+08</td>\n",
       "    </tr>\n",
       "    <tr>\n",
       "      <th>4</th>\n",
       "      <td>20140905</td>\n",
       "      <td>2.407522e+08</td>\n",
       "      <td>2.628073e+08</td>\n",
       "    </tr>\n",
       "  </tbody>\n",
       "</table>\n",
       "</div>"
      ],
      "text/plain": [
       "  report_date      purchase        redeem\n",
       "0    20140901  3.310521e+08  3.169075e+08\n",
       "1    20140902  3.318773e+08  3.372505e+08\n",
       "2    20140903  3.338918e+08  3.632469e+08\n",
       "3    20140904  2.983190e+08  3.074799e+08\n",
       "4    20140905  2.407522e+08  2.628073e+08"
      ]
     },
     "execution_count": 119,
     "metadata": {},
     "output_type": "execute_result"
    }
   ],
   "source": [
    "result1 = pd.DataFrame()\n",
    "result1['report_date'] = purchase_pred.index\n",
    "result1['purchase'] = purchase_pred.values\n",
    "result1['redeem'] = redeem_pred.values\n",
    "\n",
    "result1['report_date'] = result1['report_date'].apply(lambda x: str(x).replace('-','')[0:8])\n",
    "\n",
    "result1.head()"
   ]
  },
  {
   "cell_type": "code",
   "execution_count": null,
   "id": "younger-model",
   "metadata": {},
   "outputs": [],
   "source": [
    "# result1.to_csv('baseline_arima.csv', header=None, index=False)"
   ]
  },
  {
   "cell_type": "markdown",
   "id": "grave-gossip",
   "metadata": {},
   "source": [
    "## => ARIMA(7,1,5): online score = 101.2314"
   ]
  },
  {
   "cell_type": "markdown",
   "id": "impressive-hacker",
   "metadata": {},
   "source": [
    "Disadvantages of ARIMA:\n",
    "\n",
    "1) it is autoregressive, meanning estimate based on previous days, but there might be a weekly pattern\n",
    "\n",
    "2) it didn't take holidays, events (e.g. interest rate change) into account\n",
    "\n",
    "\n",
    "选择特征：\n",
    "\n",
    "可以用简单的统计量来作为特征，从中提取出有用的信息：\n",
    "\n",
    "1) 中位数：居于中间位置的数，较为稳健\n",
    "\n",
    "2) 均值：当分布符合正态分布时，可以代表整体特征\n",
    "\n",
    "3) 临近数据：离待测数据越近的数据对其影响越大"
   ]
  },
  {
   "cell_type": "markdown",
   "id": "worse-climate",
   "metadata": {},
   "source": [
    "# 2. Prophet"
   ]
  },
  {
   "cell_type": "code",
   "execution_count": 76,
   "id": "diagnostic-partition",
   "metadata": {
    "ExecuteTime": {
     "end_time": "2021-10-23T23:27:10.022417Z",
     "start_time": "2021-10-23T23:27:10.019505Z"
    }
   },
   "outputs": [],
   "source": [
    "from fbprophet import Prophet\n",
    "import pickle"
   ]
  },
  {
   "cell_type": "code",
   "execution_count": 77,
   "id": "wrong-retirement",
   "metadata": {
    "ExecuteTime": {
     "end_time": "2021-10-23T23:27:10.705131Z",
     "start_time": "2021-10-23T23:27:10.698544Z"
    }
   },
   "outputs": [],
   "source": [
    "with open('./data/purchase.pkl', 'rb') as file:\n",
    "    purchase = pickle.load(file)\n",
    "\n",
    "with open('./data/redeem.pkl', 'rb') as file:\n",
    "    redeem = pickle.load(file)\n",
    "\n",
    "purchase = purchase.reset_index()\n",
    "purchase.columns = ['ds', 'y']\n",
    "\n",
    "redeem = redeem.reset_index()\n",
    "redeem.columns = ['ds', 'y']"
   ]
  },
  {
   "cell_type": "markdown",
   "id": "careful-offer",
   "metadata": {},
   "source": [
    "## fit purchase"
   ]
  },
  {
   "cell_type": "code",
   "execution_count": 78,
   "id": "subject-maria",
   "metadata": {
    "ExecuteTime": {
     "end_time": "2021-10-23T23:27:11.930312Z",
     "start_time": "2021-10-23T23:27:11.849636Z"
    }
   },
   "outputs": [
    {
     "name": "stderr",
     "output_type": "stream",
     "text": [
      "INFO:fbprophet:Disabling daily seasonality. Run prophet with daily_seasonality=True to override this.\n"
     ]
    },
    {
     "data": {
      "text/plain": [
       "<fbprophet.forecaster.Prophet at 0x7fbd9822a9a0>"
      ]
     },
     "execution_count": 78,
     "metadata": {},
     "output_type": "execute_result"
    }
   ],
   "source": [
    "model = Prophet(yearly_seasonality = True, seasonality_prior_scale = 0.1)\n",
    "\n",
    "model.fit(purchase)"
   ]
  },
  {
   "cell_type": "code",
   "execution_count": 79,
   "id": "improved-jacksonville",
   "metadata": {
    "ExecuteTime": {
     "end_time": "2021-10-23T23:27:12.386188Z",
     "start_time": "2021-10-23T23:27:12.378768Z"
    }
   },
   "outputs": [
    {
     "data": {
      "text/html": [
       "<div>\n",
       "<style scoped>\n",
       "    .dataframe tbody tr th:only-of-type {\n",
       "        vertical-align: middle;\n",
       "    }\n",
       "\n",
       "    .dataframe tbody tr th {\n",
       "        vertical-align: top;\n",
       "    }\n",
       "\n",
       "    .dataframe thead th {\n",
       "        text-align: right;\n",
       "    }\n",
       "</style>\n",
       "<table border=\"1\" class=\"dataframe\">\n",
       "  <thead>\n",
       "    <tr style=\"text-align: right;\">\n",
       "      <th></th>\n",
       "      <th>ds</th>\n",
       "    </tr>\n",
       "  </thead>\n",
       "  <tbody>\n",
       "    <tr>\n",
       "      <th>447</th>\n",
       "      <td>2014-09-21</td>\n",
       "    </tr>\n",
       "    <tr>\n",
       "      <th>448</th>\n",
       "      <td>2014-09-22</td>\n",
       "    </tr>\n",
       "    <tr>\n",
       "      <th>449</th>\n",
       "      <td>2014-09-23</td>\n",
       "    </tr>\n",
       "    <tr>\n",
       "      <th>450</th>\n",
       "      <td>2014-09-24</td>\n",
       "    </tr>\n",
       "    <tr>\n",
       "      <th>451</th>\n",
       "      <td>2014-09-25</td>\n",
       "    </tr>\n",
       "    <tr>\n",
       "      <th>452</th>\n",
       "      <td>2014-09-26</td>\n",
       "    </tr>\n",
       "    <tr>\n",
       "      <th>453</th>\n",
       "      <td>2014-09-27</td>\n",
       "    </tr>\n",
       "    <tr>\n",
       "      <th>454</th>\n",
       "      <td>2014-09-28</td>\n",
       "    </tr>\n",
       "    <tr>\n",
       "      <th>455</th>\n",
       "      <td>2014-09-29</td>\n",
       "    </tr>\n",
       "    <tr>\n",
       "      <th>456</th>\n",
       "      <td>2014-09-30</td>\n",
       "    </tr>\n",
       "  </tbody>\n",
       "</table>\n",
       "</div>"
      ],
      "text/plain": [
       "            ds\n",
       "447 2014-09-21\n",
       "448 2014-09-22\n",
       "449 2014-09-23\n",
       "450 2014-09-24\n",
       "451 2014-09-25\n",
       "452 2014-09-26\n",
       "453 2014-09-27\n",
       "454 2014-09-28\n",
       "455 2014-09-29\n",
       "456 2014-09-30"
      ]
     },
     "execution_count": 79,
     "metadata": {},
     "output_type": "execute_result"
    }
   ],
   "source": [
    "future = model.make_future_dataframe(periods = 30)\n",
    "future.tail(10)"
   ]
  },
  {
   "cell_type": "code",
   "execution_count": 80,
   "id": "hybrid-stock",
   "metadata": {
    "ExecuteTime": {
     "end_time": "2021-10-23T23:27:14.403933Z",
     "start_time": "2021-10-23T23:27:12.890970Z"
    }
   },
   "outputs": [
    {
     "data": {
      "text/html": [
       "<div>\n",
       "<style scoped>\n",
       "    .dataframe tbody tr th:only-of-type {\n",
       "        vertical-align: middle;\n",
       "    }\n",
       "\n",
       "    .dataframe tbody tr th {\n",
       "        vertical-align: top;\n",
       "    }\n",
       "\n",
       "    .dataframe thead th {\n",
       "        text-align: right;\n",
       "    }\n",
       "</style>\n",
       "<table border=\"1\" class=\"dataframe\">\n",
       "  <thead>\n",
       "    <tr style=\"text-align: right;\">\n",
       "      <th></th>\n",
       "      <th>ds</th>\n",
       "      <th>trend</th>\n",
       "      <th>yhat_lower</th>\n",
       "      <th>yhat_upper</th>\n",
       "      <th>trend_lower</th>\n",
       "      <th>trend_upper</th>\n",
       "      <th>additive_terms</th>\n",
       "      <th>additive_terms_lower</th>\n",
       "      <th>additive_terms_upper</th>\n",
       "      <th>weekly</th>\n",
       "      <th>weekly_lower</th>\n",
       "      <th>weekly_upper</th>\n",
       "      <th>yearly</th>\n",
       "      <th>yearly_lower</th>\n",
       "      <th>yearly_upper</th>\n",
       "      <th>multiplicative_terms</th>\n",
       "      <th>multiplicative_terms_lower</th>\n",
       "      <th>multiplicative_terms_upper</th>\n",
       "      <th>yhat</th>\n",
       "    </tr>\n",
       "  </thead>\n",
       "  <tbody>\n",
       "    <tr>\n",
       "      <th>0</th>\n",
       "      <td>2013-07-01</td>\n",
       "      <td>1.045382e+08</td>\n",
       "      <td>-2.699601e+07</td>\n",
       "      <td>1.811361e+08</td>\n",
       "      <td>1.045382e+08</td>\n",
       "      <td>1.045382e+08</td>\n",
       "      <td>-2.516037e+07</td>\n",
       "      <td>-2.516037e+07</td>\n",
       "      <td>-2.516037e+07</td>\n",
       "      <td>4.494683e+07</td>\n",
       "      <td>4.494683e+07</td>\n",
       "      <td>4.494683e+07</td>\n",
       "      <td>-7.010720e+07</td>\n",
       "      <td>-7.010720e+07</td>\n",
       "      <td>-7.010720e+07</td>\n",
       "      <td>0.0</td>\n",
       "      <td>0.0</td>\n",
       "      <td>0.0</td>\n",
       "      <td>7.937780e+07</td>\n",
       "    </tr>\n",
       "    <tr>\n",
       "      <th>1</th>\n",
       "      <td>2013-07-02</td>\n",
       "      <td>1.051208e+08</td>\n",
       "      <td>-2.140275e+07</td>\n",
       "      <td>1.800369e+08</td>\n",
       "      <td>1.051208e+08</td>\n",
       "      <td>1.051208e+08</td>\n",
       "      <td>-2.499085e+07</td>\n",
       "      <td>-2.499085e+07</td>\n",
       "      <td>-2.499085e+07</td>\n",
       "      <td>4.767347e+07</td>\n",
       "      <td>4.767347e+07</td>\n",
       "      <td>4.767347e+07</td>\n",
       "      <td>-7.266432e+07</td>\n",
       "      <td>-7.266432e+07</td>\n",
       "      <td>-7.266432e+07</td>\n",
       "      <td>0.0</td>\n",
       "      <td>0.0</td>\n",
       "      <td>0.0</td>\n",
       "      <td>8.012993e+07</td>\n",
       "    </tr>\n",
       "    <tr>\n",
       "      <th>2</th>\n",
       "      <td>2013-07-03</td>\n",
       "      <td>1.057034e+08</td>\n",
       "      <td>-3.999394e+07</td>\n",
       "      <td>1.693381e+08</td>\n",
       "      <td>1.057034e+08</td>\n",
       "      <td>1.057034e+08</td>\n",
       "      <td>-3.725546e+07</td>\n",
       "      <td>-3.725546e+07</td>\n",
       "      <td>-3.725546e+07</td>\n",
       "      <td>3.774492e+07</td>\n",
       "      <td>3.774492e+07</td>\n",
       "      <td>3.774492e+07</td>\n",
       "      <td>-7.500038e+07</td>\n",
       "      <td>-7.500038e+07</td>\n",
       "      <td>-7.500038e+07</td>\n",
       "      <td>0.0</td>\n",
       "      <td>0.0</td>\n",
       "      <td>0.0</td>\n",
       "      <td>6.844793e+07</td>\n",
       "    </tr>\n",
       "    <tr>\n",
       "      <th>3</th>\n",
       "      <td>2013-07-04</td>\n",
       "      <td>1.062860e+08</td>\n",
       "      <td>-5.196742e+07</td>\n",
       "      <td>1.474926e+08</td>\n",
       "      <td>1.062860e+08</td>\n",
       "      <td>1.062860e+08</td>\n",
       "      <td>-5.755977e+07</td>\n",
       "      <td>-5.755977e+07</td>\n",
       "      <td>-5.755977e+07</td>\n",
       "      <td>1.952314e+07</td>\n",
       "      <td>1.952314e+07</td>\n",
       "      <td>1.952314e+07</td>\n",
       "      <td>-7.708291e+07</td>\n",
       "      <td>-7.708291e+07</td>\n",
       "      <td>-7.708291e+07</td>\n",
       "      <td>0.0</td>\n",
       "      <td>0.0</td>\n",
       "      <td>0.0</td>\n",
       "      <td>4.872623e+07</td>\n",
       "    </tr>\n",
       "    <tr>\n",
       "      <th>4</th>\n",
       "      <td>2013-07-05</td>\n",
       "      <td>1.068686e+08</td>\n",
       "      <td>-9.216931e+07</td>\n",
       "      <td>1.060726e+08</td>\n",
       "      <td>1.068686e+08</td>\n",
       "      <td>1.068686e+08</td>\n",
       "      <td>-9.679845e+07</td>\n",
       "      <td>-9.679845e+07</td>\n",
       "      <td>-9.679845e+07</td>\n",
       "      <td>-1.791228e+07</td>\n",
       "      <td>-1.791228e+07</td>\n",
       "      <td>-1.791228e+07</td>\n",
       "      <td>-7.888617e+07</td>\n",
       "      <td>-7.888617e+07</td>\n",
       "      <td>-7.888617e+07</td>\n",
       "      <td>0.0</td>\n",
       "      <td>0.0</td>\n",
       "      <td>0.0</td>\n",
       "      <td>1.007016e+07</td>\n",
       "    </tr>\n",
       "  </tbody>\n",
       "</table>\n",
       "</div>"
      ],
      "text/plain": [
       "          ds         trend    yhat_lower    yhat_upper   trend_lower  \\\n",
       "0 2013-07-01  1.045382e+08 -2.699601e+07  1.811361e+08  1.045382e+08   \n",
       "1 2013-07-02  1.051208e+08 -2.140275e+07  1.800369e+08  1.051208e+08   \n",
       "2 2013-07-03  1.057034e+08 -3.999394e+07  1.693381e+08  1.057034e+08   \n",
       "3 2013-07-04  1.062860e+08 -5.196742e+07  1.474926e+08  1.062860e+08   \n",
       "4 2013-07-05  1.068686e+08 -9.216931e+07  1.060726e+08  1.068686e+08   \n",
       "\n",
       "    trend_upper  additive_terms  additive_terms_lower  additive_terms_upper  \\\n",
       "0  1.045382e+08   -2.516037e+07         -2.516037e+07         -2.516037e+07   \n",
       "1  1.051208e+08   -2.499085e+07         -2.499085e+07         -2.499085e+07   \n",
       "2  1.057034e+08   -3.725546e+07         -3.725546e+07         -3.725546e+07   \n",
       "3  1.062860e+08   -5.755977e+07         -5.755977e+07         -5.755977e+07   \n",
       "4  1.068686e+08   -9.679845e+07         -9.679845e+07         -9.679845e+07   \n",
       "\n",
       "         weekly  weekly_lower  weekly_upper        yearly  yearly_lower  \\\n",
       "0  4.494683e+07  4.494683e+07  4.494683e+07 -7.010720e+07 -7.010720e+07   \n",
       "1  4.767347e+07  4.767347e+07  4.767347e+07 -7.266432e+07 -7.266432e+07   \n",
       "2  3.774492e+07  3.774492e+07  3.774492e+07 -7.500038e+07 -7.500038e+07   \n",
       "3  1.952314e+07  1.952314e+07  1.952314e+07 -7.708291e+07 -7.708291e+07   \n",
       "4 -1.791228e+07 -1.791228e+07 -1.791228e+07 -7.888617e+07 -7.888617e+07   \n",
       "\n",
       "   yearly_upper  multiplicative_terms  multiplicative_terms_lower  \\\n",
       "0 -7.010720e+07                   0.0                         0.0   \n",
       "1 -7.266432e+07                   0.0                         0.0   \n",
       "2 -7.500038e+07                   0.0                         0.0   \n",
       "3 -7.708291e+07                   0.0                         0.0   \n",
       "4 -7.888617e+07                   0.0                         0.0   \n",
       "\n",
       "   multiplicative_terms_upper          yhat  \n",
       "0                         0.0  7.937780e+07  \n",
       "1                         0.0  8.012993e+07  \n",
       "2                         0.0  6.844793e+07  \n",
       "3                         0.0  4.872623e+07  \n",
       "4                         0.0  1.007016e+07  "
      ]
     },
     "execution_count": 80,
     "metadata": {},
     "output_type": "execute_result"
    }
   ],
   "source": [
    "# predict next 30 days in 09-2014\n",
    "\n",
    "purchase_pred = model.predict(future)\n",
    "purchase_pred.head()"
   ]
  },
  {
   "cell_type": "code",
   "execution_count": 81,
   "id": "hawaiian-transition",
   "metadata": {
    "ExecuteTime": {
     "end_time": "2021-10-23T23:27:14.629810Z",
     "start_time": "2021-10-23T23:27:14.405954Z"
    }
   },
   "outputs": [
    {
     "data": {
      "image/png": "[encoded data removed]",
      "text/plain": [
       "<Figure size 720x432 with 1 Axes>"
      ]
     },
     "metadata": {},
     "output_type": "display_data"
    }
   ],
   "source": [
    "model.plot(purchase_pred)\n",
    "plt.show()"
   ]
  },
  {
   "cell_type": "code",
   "execution_count": 82,
   "id": "passing-router",
   "metadata": {
    "ExecuteTime": {
     "end_time": "2021-10-23T23:27:14.637321Z",
     "start_time": "2021-10-23T23:27:14.632522Z"
    }
   },
   "outputs": [],
   "source": [
    "purchase2 = purchase_pred[purchase_pred['ds']>='2014-09-01'][['ds', 'yhat']]"
   ]
  },
  {
   "cell_type": "markdown",
   "id": "continued-viking",
   "metadata": {},
   "source": [
    "## fit redeem"
   ]
  },
  {
   "cell_type": "code",
   "execution_count": 83,
   "id": "compressed-cedar",
   "metadata": {
    "ExecuteTime": {
     "end_time": "2021-10-23T23:27:16.515168Z",
     "start_time": "2021-10-23T23:27:14.869712Z"
    }
   },
   "outputs": [
    {
     "name": "stderr",
     "output_type": "stream",
     "text": [
      "INFO:fbprophet:Disabling daily seasonality. Run prophet with daily_seasonality=True to override this.\n"
     ]
    }
   ],
   "source": [
    "model2 = Prophet(yearly_seasonality = True, seasonality_prior_scale = 0.1)\n",
    "model2.fit(redeem)\n",
    "\n",
    "future2 = model2.make_future_dataframe(periods = 30)\n",
    "redeem_pred = model.predict(future2)\n",
    "redeem2 = redeem_pred[redeem_pred['ds']>='2014-09-01'][['ds', 'yhat']]"
   ]
  },
  {
   "cell_type": "markdown",
   "id": "alleged-apple",
   "metadata": {
    "ExecuteTime": {
     "end_time": "2021-10-23T23:10:14.957383Z",
     "start_time": "2021-10-23T23:10:14.947910Z"
    }
   },
   "source": [
    "## combine purchase prediction & redeem prediction"
   ]
  },
  {
   "cell_type": "code",
   "execution_count": 105,
   "id": "further-machine",
   "metadata": {
    "ExecuteTime": {
     "end_time": "2021-10-24T14:23:04.813721Z",
     "start_time": "2021-10-24T14:23:04.774614Z"
    }
   },
   "outputs": [
    {
     "data": {
      "text/html": [
       "<div>\n",
       "<style scoped>\n",
       "    .dataframe tbody tr th:only-of-type {\n",
       "        vertical-align: middle;\n",
       "    }\n",
       "\n",
       "    .dataframe tbody tr th {\n",
       "        vertical-align: top;\n",
       "    }\n",
       "\n",
       "    .dataframe thead th {\n",
       "        text-align: right;\n",
       "    }\n",
       "</style>\n",
       "<table border=\"1\" class=\"dataframe\">\n",
       "  <thead>\n",
       "    <tr style=\"text-align: right;\">\n",
       "      <th></th>\n",
       "      <th>report_date</th>\n",
       "      <th>purchase</th>\n",
       "      <th>redeem</th>\n",
       "    </tr>\n",
       "  </thead>\n",
       "  <tbody>\n",
       "    <tr>\n",
       "      <th>427</th>\n",
       "      <td>20140901</td>\n",
       "      <td>3.181871e+08</td>\n",
       "      <td>3.181871e+08</td>\n",
       "    </tr>\n",
       "    <tr>\n",
       "      <th>428</th>\n",
       "      <td>20140902</td>\n",
       "      <td>3.214351e+08</td>\n",
       "      <td>3.214351e+08</td>\n",
       "    </tr>\n",
       "    <tr>\n",
       "      <th>429</th>\n",
       "      <td>20140903</td>\n",
       "      <td>3.118692e+08</td>\n",
       "      <td>3.118692e+08</td>\n",
       "    </tr>\n",
       "    <tr>\n",
       "      <th>430</th>\n",
       "      <td>20140904</td>\n",
       "      <td>2.938550e+08</td>\n",
       "      <td>2.938550e+08</td>\n",
       "    </tr>\n",
       "    <tr>\n",
       "      <th>431</th>\n",
       "      <td>20140905</td>\n",
       "      <td>2.564788e+08</td>\n",
       "      <td>2.564788e+08</td>\n",
       "    </tr>\n",
       "  </tbody>\n",
       "</table>\n",
       "</div>"
      ],
      "text/plain": [
       "    report_date      purchase        redeem\n",
       "427    20140901  3.181871e+08  3.181871e+08\n",
       "428    20140902  3.214351e+08  3.214351e+08\n",
       "429    20140903  3.118692e+08  3.118692e+08\n",
       "430    20140904  2.938550e+08  2.938550e+08\n",
       "431    20140905  2.564788e+08  2.564788e+08"
      ]
     },
     "execution_count": 105,
     "metadata": {},
     "output_type": "execute_result"
    }
   ],
   "source": [
    "result2 = pd.DataFrame()\n",
    "result2['report_date'] = purchase2.ds\n",
    "result2['purchase'] = purchase2.yhat\n",
    "result2['redeem'] = redeem2.yhat\n",
    "\n",
    "result2['report_date'] = result['report_date'].apply(lambda x: str(x).replace('-','')[0:8])\n",
    "\n",
    "result2.head()"
   ]
  },
  {
   "cell_type": "code",
   "execution_count": null,
   "id": "unique-census",
   "metadata": {},
   "outputs": [],
   "source": [
    "# result2.to_csv('baseline_prophet.csv', header=None, index=False)"
   ]
  },
  {
   "cell_type": "markdown",
   "id": "british-title",
   "metadata": {},
   "source": [
    "## => Prophet: online score = 100.1324"
   ]
  },
  {
   "cell_type": "markdown",
   "id": "convenient-effects",
   "metadata": {},
   "source": [
    "# 3. Model stacking"
   ]
  },
  {
   "cell_type": "code",
   "execution_count": 158,
   "id": "dried-winter",
   "metadata": {
    "ExecuteTime": {
     "end_time": "2021-10-24T20:45:24.465852Z",
     "start_time": "2021-10-24T20:45:24.455561Z"
    }
   },
   "outputs": [],
   "source": [
    "arima_result = pd.DataFrame(result1.values, columns=['ds', 'purchase1', 'redeem1'])\n",
    "prophet_result = pd.DataFrame(result2.values, columns=['ds', 'purchase2', 'redeem2'])"
   ]
  },
  {
   "cell_type": "code",
   "execution_count": 159,
   "id": "conscious-piece",
   "metadata": {
    "ExecuteTime": {
     "end_time": "2021-10-24T20:45:25.132401Z",
     "start_time": "2021-10-24T20:45:25.119876Z"
    }
   },
   "outputs": [
    {
     "data": {
      "text/html": [
       "<div>\n",
       "<style scoped>\n",
       "    .dataframe tbody tr th:only-of-type {\n",
       "        vertical-align: middle;\n",
       "    }\n",
       "\n",
       "    .dataframe tbody tr th {\n",
       "        vertical-align: top;\n",
       "    }\n",
       "\n",
       "    .dataframe thead th {\n",
       "        text-align: right;\n",
       "    }\n",
       "</style>\n",
       "<table border=\"1\" class=\"dataframe\">\n",
       "  <thead>\n",
       "    <tr style=\"text-align: right;\">\n",
       "      <th></th>\n",
       "      <th>ds</th>\n",
       "      <th>purchase1</th>\n",
       "      <th>redeem1</th>\n",
       "      <th>purchase2</th>\n",
       "      <th>redeem2</th>\n",
       "    </tr>\n",
       "  </thead>\n",
       "  <tbody>\n",
       "    <tr>\n",
       "      <th>0</th>\n",
       "      <td>20140901</td>\n",
       "      <td>331052148.944308</td>\n",
       "      <td>316907458.896058</td>\n",
       "      <td>318187058.519883</td>\n",
       "      <td>318187058.519883</td>\n",
       "    </tr>\n",
       "    <tr>\n",
       "      <th>1</th>\n",
       "      <td>20140902</td>\n",
       "      <td>331877345.777803</td>\n",
       "      <td>337250518.268437</td>\n",
       "      <td>321435093.184782</td>\n",
       "      <td>321435093.184782</td>\n",
       "    </tr>\n",
       "    <tr>\n",
       "      <th>2</th>\n",
       "      <td>20140903</td>\n",
       "      <td>333891801.463518</td>\n",
       "      <td>363246860.209706</td>\n",
       "      <td>311869183.692426</td>\n",
       "      <td>311869183.692426</td>\n",
       "    </tr>\n",
       "    <tr>\n",
       "      <th>3</th>\n",
       "      <td>20140904</td>\n",
       "      <td>298318964.067410</td>\n",
       "      <td>307479922.883234</td>\n",
       "      <td>293854961.836403</td>\n",
       "      <td>293854961.836403</td>\n",
       "    </tr>\n",
       "    <tr>\n",
       "      <th>4</th>\n",
       "      <td>20140905</td>\n",
       "      <td>240752229.000847</td>\n",
       "      <td>262807347.846188</td>\n",
       "      <td>256478779.657548</td>\n",
       "      <td>256478779.657548</td>\n",
       "    </tr>\n",
       "  </tbody>\n",
       "</table>\n",
       "</div>"
      ],
      "text/plain": [
       "         ds         purchase1           redeem1         purchase2  \\\n",
       "0  20140901  331052148.944308  316907458.896058  318187058.519883   \n",
       "1  20140902  331877345.777803  337250518.268437  321435093.184782   \n",
       "2  20140903  333891801.463518  363246860.209706  311869183.692426   \n",
       "3  20140904  298318964.067410  307479922.883234  293854961.836403   \n",
       "4  20140905  240752229.000847  262807347.846188  256478779.657548   \n",
       "\n",
       "            redeem2  \n",
       "0  318187058.519883  \n",
       "1  321435093.184782  \n",
       "2  311869183.692426  \n",
       "3  293854961.836403  \n",
       "4  256478779.657548  "
      ]
     },
     "execution_count": 159,
     "metadata": {},
     "output_type": "execute_result"
    }
   ],
   "source": [
    "df = arima_result.merge(prophet_result, on='ds', how='left')\n",
    "df.head()"
   ]
  },
  {
   "cell_type": "code",
   "execution_count": 160,
   "id": "textile-launch",
   "metadata": {
    "ExecuteTime": {
     "end_time": "2021-10-24T20:45:25.944945Z",
     "start_time": "2021-10-24T20:45:25.768361Z"
    }
   },
   "outputs": [
    {
     "data": {
      "image/png": "[encoded data removed]",
      "text/plain": [
       "<Figure size 432x288 with 1 Axes>"
      ]
     },
     "metadata": {
      "needs_background": "light"
     },
     "output_type": "display_data"
    }
   ],
   "source": [
    "# plt.figure(figsize=(20,8))\n",
    "\n",
    "plt.plot(df['purchase1'])\n",
    "plt.plot(df['purchase2'])\n",
    "plt.show()"
   ]
  },
  {
   "cell_type": "code",
   "execution_count": 161,
   "id": "reflected-evaluation",
   "metadata": {
    "ExecuteTime": {
     "end_time": "2021-10-24T20:45:27.082890Z",
     "start_time": "2021-10-24T20:45:26.935905Z"
    }
   },
   "outputs": [
    {
     "data": {
      "image/png": "[encoded data removed]",
      "text/plain": [
       "<Figure size 432x288 with 1 Axes>"
      ]
     },
     "metadata": {
      "needs_background": "light"
     },
     "output_type": "display_data"
    }
   ],
   "source": [
    "plt.plot(df['redeem1'])\n",
    "plt.plot(df['redeem2'])\n",
    "plt.show()"
   ]
  },
  {
   "cell_type": "code",
   "execution_count": 162,
   "id": "unable-accommodation",
   "metadata": {
    "ExecuteTime": {
     "end_time": "2021-10-24T20:45:28.929271Z",
     "start_time": "2021-10-24T20:45:28.895522Z"
    }
   },
   "outputs": [
    {
     "data": {
      "text/html": [
       "<div>\n",
       "<style scoped>\n",
       "    .dataframe tbody tr th:only-of-type {\n",
       "        vertical-align: middle;\n",
       "    }\n",
       "\n",
       "    .dataframe tbody tr th {\n",
       "        vertical-align: top;\n",
       "    }\n",
       "\n",
       "    .dataframe thead th {\n",
       "        text-align: right;\n",
       "    }\n",
       "</style>\n",
       "<table border=\"1\" class=\"dataframe\">\n",
       "  <thead>\n",
       "    <tr style=\"text-align: right;\">\n",
       "      <th></th>\n",
       "      <th>ds</th>\n",
       "      <th>purchase1</th>\n",
       "      <th>redeem1</th>\n",
       "      <th>purchase2</th>\n",
       "      <th>redeem2</th>\n",
       "      <th>purhcase</th>\n",
       "      <th>redeem</th>\n",
       "    </tr>\n",
       "  </thead>\n",
       "  <tbody>\n",
       "    <tr>\n",
       "      <th>0</th>\n",
       "      <td>20140901</td>\n",
       "      <td>331052148.944308</td>\n",
       "      <td>316907458.896058</td>\n",
       "      <td>318187058.519883</td>\n",
       "      <td>318187058.519883</td>\n",
       "      <td>3.181871e+08</td>\n",
       "      <td>3.169075e+08</td>\n",
       "    </tr>\n",
       "    <tr>\n",
       "      <th>1</th>\n",
       "      <td>20140902</td>\n",
       "      <td>331877345.777803</td>\n",
       "      <td>337250518.268437</td>\n",
       "      <td>321435093.184782</td>\n",
       "      <td>321435093.184782</td>\n",
       "      <td>3.214351e+08</td>\n",
       "      <td>3.214351e+08</td>\n",
       "    </tr>\n",
       "    <tr>\n",
       "      <th>2</th>\n",
       "      <td>20140903</td>\n",
       "      <td>333891801.463518</td>\n",
       "      <td>363246860.209706</td>\n",
       "      <td>311869183.692426</td>\n",
       "      <td>311869183.692426</td>\n",
       "      <td>3.118692e+08</td>\n",
       "      <td>3.118692e+08</td>\n",
       "    </tr>\n",
       "    <tr>\n",
       "      <th>3</th>\n",
       "      <td>20140904</td>\n",
       "      <td>298318964.067410</td>\n",
       "      <td>307479922.883234</td>\n",
       "      <td>293854961.836403</td>\n",
       "      <td>293854961.836403</td>\n",
       "      <td>2.938550e+08</td>\n",
       "      <td>2.938550e+08</td>\n",
       "    </tr>\n",
       "    <tr>\n",
       "      <th>4</th>\n",
       "      <td>20140905</td>\n",
       "      <td>240752229.000847</td>\n",
       "      <td>262807347.846188</td>\n",
       "      <td>256478779.657548</td>\n",
       "      <td>256478779.657548</td>\n",
       "      <td>2.407522e+08</td>\n",
       "      <td>2.564788e+08</td>\n",
       "    </tr>\n",
       "  </tbody>\n",
       "</table>\n",
       "</div>"
      ],
      "text/plain": [
       "         ds         purchase1           redeem1         purchase2  \\\n",
       "0  20140901  331052148.944308  316907458.896058  318187058.519883   \n",
       "1  20140902  331877345.777803  337250518.268437  321435093.184782   \n",
       "2  20140903  333891801.463518  363246860.209706  311869183.692426   \n",
       "3  20140904  298318964.067410  307479922.883234  293854961.836403   \n",
       "4  20140905  240752229.000847  262807347.846188  256478779.657548   \n",
       "\n",
       "            redeem2      purhcase        redeem  \n",
       "0  318187058.519883  3.181871e+08  3.169075e+08  \n",
       "1  321435093.184782  3.214351e+08  3.214351e+08  \n",
       "2  311869183.692426  3.118692e+08  3.118692e+08  \n",
       "3  293854961.836403  2.938550e+08  2.938550e+08  \n",
       "4  256478779.657548  2.407522e+08  2.564788e+08  "
      ]
     },
     "execution_count": 162,
     "metadata": {},
     "output_type": "execute_result"
    }
   ],
   "source": [
    "# df['purchase'] = 0.6*df['purchase1'] + 0.4*df['purchase2']\n",
    "# df['redeem'] = 0.6*df['redeem1'] + 0.4*df['redeem2']\n",
    "\n",
    "for index, row in df.iterrows():\n",
    "    df.loc[index, 'purhcase'] = min(row['purchase1'], row['purchase2'])\n",
    "    df.loc[index, 'redeem'] = min(row['redeem1'], row['redeem2'])\n",
    "df.head()"
   ]
  },
  {
   "cell_type": "code",
   "execution_count": null,
   "id": "egyptian-associate",
   "metadata": {},
   "outputs": [],
   "source": [
    "# df[['ds', 'purchase', 'redeem']].to_csv('baseline_stacking.csv', header=None, index=False)"
   ]
  },
  {
   "cell_type": "markdown",
   "id": "atlantic-colony",
   "metadata": {},
   "source": [
    "## => Model stacking: online score = 101.5570"
   ]
  },
  {
   "cell_type": "markdown",
   "id": "consistent-facial",
   "metadata": {},
   "source": [
    "# 4. Ultilising Weekly & Monthly Pattern\n",
    "\n",
    "基于周期因子的时间序列预测\n",
    "\n",
    "需要确定周期长度，比如7天（一周），30天（一个月），结合STL分解 (Seasonal and Trend decomposition) 观察周期变化。\n",
    "\n",
    "以周期=7为例：\n",
    "\n",
    "- 思路 \n",
    "\n",
    "用过去的周一去预测未来的周一，过去的周二去预测未来的周二，etc。\n",
    "\n",
    "- 实现：\n",
    "\n",
    "周期因子 = 过去每一个星期x的均值/数据整体均值（base）。"
   ]
  },
  {
   "cell_type": "markdown",
   "id": "suffering-freeze",
   "metadata": {},
   "source": [
    "此项目是预测下个月每一天的情况（周期=30）：基于每月的规律（1-30号的平均流量）* 周期因子\n",
    "\n",
    "- 实现步骤：\n",
    "\n",
    "Step1：计算周期因子（weekday）：每周的平均值/整体平均值\n",
    "\n",
    "Step2：计算朴素日期因子（month-day）：\n",
    "  - 统计星期x（weekday）在每日（month_day）出现的频次   --->   作为weekday对month_day的影响\n",
    "  - 计算每日的base：每日的所有[频次\\*周期因子]之和/总共的月份 --->  作为month_day基于周期因子获得的加权均值\n",
    "  - 计算日期因子：每日（1号-30号）均值/每日对应的base --->  除以每日的base作用是去掉周期因子对当天的影响\n",
    "\n",
    "Step3：朴素日期因子\\*周期因子为最终预测值\n",
    "\n"
   ]
  },
  {
   "cell_type": "code",
   "execution_count": 123,
   "id": "aerial-election",
   "metadata": {
    "ExecuteTime": {
     "end_time": "2021-10-24T15:29:26.465073Z",
     "start_time": "2021-10-24T15:29:26.453889Z"
    }
   },
   "outputs": [
    {
     "data": {
      "text/html": [
       "<div>\n",
       "<style scoped>\n",
       "    .dataframe tbody tr th:only-of-type {\n",
       "        vertical-align: middle;\n",
       "    }\n",
       "\n",
       "    .dataframe tbody tr th {\n",
       "        vertical-align: top;\n",
       "    }\n",
       "\n",
       "    .dataframe thead th {\n",
       "        text-align: right;\n",
       "    }\n",
       "</style>\n",
       "<table border=\"1\" class=\"dataframe\">\n",
       "  <thead>\n",
       "    <tr style=\"text-align: right;\">\n",
       "      <th></th>\n",
       "      <th>report_date</th>\n",
       "      <th>total_purchase_amt</th>\n",
       "    </tr>\n",
       "  </thead>\n",
       "  <tbody>\n",
       "    <tr>\n",
       "      <th>0</th>\n",
       "      <td>2013-07-01</td>\n",
       "      <td>32488348</td>\n",
       "    </tr>\n",
       "    <tr>\n",
       "      <th>1</th>\n",
       "      <td>2013-07-02</td>\n",
       "      <td>29037390</td>\n",
       "    </tr>\n",
       "    <tr>\n",
       "      <th>2</th>\n",
       "      <td>2013-07-03</td>\n",
       "      <td>27270770</td>\n",
       "    </tr>\n",
       "    <tr>\n",
       "      <th>3</th>\n",
       "      <td>2013-07-04</td>\n",
       "      <td>18321185</td>\n",
       "    </tr>\n",
       "    <tr>\n",
       "      <th>4</th>\n",
       "      <td>2013-07-05</td>\n",
       "      <td>11648749</td>\n",
       "    </tr>\n",
       "  </tbody>\n",
       "</table>\n",
       "</div>"
      ],
      "text/plain": [
       "  report_date  total_purchase_amt\n",
       "0  2013-07-01            32488348\n",
       "1  2013-07-02            29037390\n",
       "2  2013-07-03            27270770\n",
       "3  2013-07-04            18321185\n",
       "4  2013-07-05            11648749"
      ]
     },
     "execution_count": 123,
     "metadata": {},
     "output_type": "execute_result"
    }
   ],
   "source": [
    "with open('./data/purchase.pkl', 'rb') as file:\n",
    "    purchase = pickle.load(file)\n",
    "\n",
    "with open('./data/redeem.pkl', 'rb') as file:\n",
    "    redeem = pickle.load(file)\n",
    "\n",
    "purchase = purchase.reset_index()\n",
    "redeem = redeem.reset_index()\n",
    "purchase.head()"
   ]
  },
  {
   "cell_type": "code",
   "execution_count": 124,
   "id": "valuable-momentum",
   "metadata": {
    "ExecuteTime": {
     "end_time": "2021-10-24T15:29:27.769923Z",
     "start_time": "2021-10-24T15:29:27.759122Z"
    }
   },
   "outputs": [
    {
     "data": {
      "text/html": [
       "<div>\n",
       "<style scoped>\n",
       "    .dataframe tbody tr th:only-of-type {\n",
       "        vertical-align: middle;\n",
       "    }\n",
       "\n",
       "    .dataframe tbody tr th {\n",
       "        vertical-align: top;\n",
       "    }\n",
       "\n",
       "    .dataframe thead th {\n",
       "        text-align: right;\n",
       "    }\n",
       "</style>\n",
       "<table border=\"1\" class=\"dataframe\">\n",
       "  <thead>\n",
       "    <tr style=\"text-align: right;\">\n",
       "      <th></th>\n",
       "      <th>report_date</th>\n",
       "      <th>total_purchase_amt</th>\n",
       "      <th>day</th>\n",
       "      <th>weekday</th>\n",
       "    </tr>\n",
       "  </thead>\n",
       "  <tbody>\n",
       "    <tr>\n",
       "      <th>0</th>\n",
       "      <td>2013-07-01</td>\n",
       "      <td>32488348</td>\n",
       "      <td>1</td>\n",
       "      <td>0</td>\n",
       "    </tr>\n",
       "    <tr>\n",
       "      <th>1</th>\n",
       "      <td>2013-07-02</td>\n",
       "      <td>29037390</td>\n",
       "      <td>2</td>\n",
       "      <td>1</td>\n",
       "    </tr>\n",
       "    <tr>\n",
       "      <th>2</th>\n",
       "      <td>2013-07-03</td>\n",
       "      <td>27270770</td>\n",
       "      <td>3</td>\n",
       "      <td>2</td>\n",
       "    </tr>\n",
       "    <tr>\n",
       "      <th>3</th>\n",
       "      <td>2013-07-04</td>\n",
       "      <td>18321185</td>\n",
       "      <td>4</td>\n",
       "      <td>3</td>\n",
       "    </tr>\n",
       "    <tr>\n",
       "      <th>4</th>\n",
       "      <td>2013-07-05</td>\n",
       "      <td>11648749</td>\n",
       "      <td>5</td>\n",
       "      <td>4</td>\n",
       "    </tr>\n",
       "  </tbody>\n",
       "</table>\n",
       "</div>"
      ],
      "text/plain": [
       "  report_date  total_purchase_amt  day  weekday\n",
       "0  2013-07-01            32488348    1        0\n",
       "1  2013-07-02            29037390    2        1\n",
       "2  2013-07-03            27270770    3        2\n",
       "3  2013-07-04            18321185    4        3\n",
       "4  2013-07-05            11648749    5        4"
      ]
     },
     "execution_count": 124,
     "metadata": {},
     "output_type": "execute_result"
    }
   ],
   "source": [
    "redeem['day'] = redeem['report_date'].dt.day\n",
    "redeem['weekday'] = redeem['report_date'].dt.weekday\n",
    "\n",
    "purchase['day'] = purchase['report_date'].dt.day\n",
    "purchase['weekday'] = purchase['report_date'].dt.weekday\n",
    "\n",
    "purchase.head()\n",
    "# 在weekday中，0=周一，6=周日"
   ]
  },
  {
   "cell_type": "code",
   "execution_count": 125,
   "id": "composed-maria",
   "metadata": {
    "ExecuteTime": {
     "end_time": "2021-10-24T15:29:37.574090Z",
     "start_time": "2021-10-24T15:29:37.373825Z"
    }
   },
   "outputs": [
    {
     "data": {
      "text/plain": [
       "<AxesSubplot:xlabel='weekday'>"
      ]
     },
     "execution_count": 125,
     "metadata": {},
     "output_type": "execute_result"
    },
    {
     "data": {
      "image/png": "[encoded data removed]",
      "text/plain": [
       "<Figure size 432x288 with 1 Axes>"
      ]
     },
     "metadata": {
      "needs_background": "light"
     },
     "output_type": "display_data"
    }
   ],
   "source": [
    "purchase.groupby(['weekday'])['total_purchase_amt'].mean().plot()"
   ]
  },
  {
   "cell_type": "markdown",
   "id": "resident-filter",
   "metadata": {},
   "source": [
    "### Thought:\n",
    "\n",
    "这种weekly pattern可能受收益计算方式影响。资金存入，一般两日后显示收益。e.g. 周一存入，周三显示收益。但周五、周六、周日的收益显示时间例外。周五到下周二，周六/天到下周三。"
   ]
  },
  {
   "cell_type": "markdown",
   "id": "domestic-attraction",
   "metadata": {},
   "source": [
    "## use data after 2014-04-01 because the trend gets stable after that"
   ]
  },
  {
   "cell_type": "code",
   "execution_count": 127,
   "id": "prepared-ontario",
   "metadata": {
    "ExecuteTime": {
     "end_time": "2021-10-24T15:43:23.060951Z",
     "start_time": "2021-10-24T15:43:23.021573Z"
    }
   },
   "outputs": [
    {
     "data": {
      "text/html": [
       "<div>\n",
       "<style scoped>\n",
       "    .dataframe tbody tr th:only-of-type {\n",
       "        vertical-align: middle;\n",
       "    }\n",
       "\n",
       "    .dataframe tbody tr th {\n",
       "        vertical-align: top;\n",
       "    }\n",
       "\n",
       "    .dataframe thead th {\n",
       "        text-align: right;\n",
       "    }\n",
       "</style>\n",
       "<table border=\"1\" class=\"dataframe\">\n",
       "  <thead>\n",
       "    <tr style=\"text-align: right;\">\n",
       "      <th></th>\n",
       "      <th>report_date</th>\n",
       "      <th>total_purchase_amt</th>\n",
       "      <th>day</th>\n",
       "      <th>weekday</th>\n",
       "      <th>total_redeem_amt</th>\n",
       "    </tr>\n",
       "  </thead>\n",
       "  <tbody>\n",
       "    <tr>\n",
       "      <th>0</th>\n",
       "      <td>2014-04-01</td>\n",
       "      <td>453320585</td>\n",
       "      <td>1</td>\n",
       "      <td>1</td>\n",
       "      <td>277429358</td>\n",
       "    </tr>\n",
       "    <tr>\n",
       "      <th>1</th>\n",
       "      <td>2014-04-02</td>\n",
       "      <td>355347118</td>\n",
       "      <td>2</td>\n",
       "      <td>2</td>\n",
       "      <td>272612066</td>\n",
       "    </tr>\n",
       "    <tr>\n",
       "      <th>2</th>\n",
       "      <td>2014-04-03</td>\n",
       "      <td>363877120</td>\n",
       "      <td>3</td>\n",
       "      <td>3</td>\n",
       "      <td>266605457</td>\n",
       "    </tr>\n",
       "    <tr>\n",
       "      <th>3</th>\n",
       "      <td>2014-04-04</td>\n",
       "      <td>251895894</td>\n",
       "      <td>4</td>\n",
       "      <td>4</td>\n",
       "      <td>200192637</td>\n",
       "    </tr>\n",
       "    <tr>\n",
       "      <th>4</th>\n",
       "      <td>2014-04-05</td>\n",
       "      <td>202336542</td>\n",
       "      <td>5</td>\n",
       "      <td>5</td>\n",
       "      <td>163199682</td>\n",
       "    </tr>\n",
       "  </tbody>\n",
       "</table>\n",
       "</div>"
      ],
      "text/plain": [
       "  report_date  total_purchase_amt  day  weekday  total_redeem_amt\n",
       "0  2014-04-01           453320585    1        1         277429358\n",
       "1  2014-04-02           355347118    2        2         272612066\n",
       "2  2014-04-03           363877120    3        3         266605457\n",
       "3  2014-04-04           251895894    4        4         200192637\n",
       "4  2014-04-05           202336542    5        5         163199682"
      ]
     },
     "execution_count": 127,
     "metadata": {},
     "output_type": "execute_result"
    }
   ],
   "source": [
    "purchase2 = purchase[purchase['report_date']>='2014-04-01']\n",
    "redeem2 = redeem[redeem['report_date']>='2014-04-01']\n",
    "\n",
    "total_df = purchase2.merge(redeem2, on=['report_date', 'day', 'weekday'], how='left')\n",
    "total_df.head()"
   ]
  },
  {
   "cell_type": "markdown",
   "id": "contemporary-housing",
   "metadata": {},
   "source": [
    "## 计算周期因子（weekday） = 每周的平均值/整体平均值"
   ]
  },
  {
   "cell_type": "code",
   "execution_count": 130,
   "id": "miniature-shoulder",
   "metadata": {
    "ExecuteTime": {
     "end_time": "2021-10-24T15:54:53.718197Z",
     "start_time": "2021-10-24T15:54:53.702864Z"
    }
   },
   "outputs": [
    {
     "data": {
      "text/html": [
       "<div>\n",
       "<style scoped>\n",
       "    .dataframe tbody tr th:only-of-type {\n",
       "        vertical-align: middle;\n",
       "    }\n",
       "\n",
       "    .dataframe tbody tr th {\n",
       "        vertical-align: top;\n",
       "    }\n",
       "\n",
       "    .dataframe thead th {\n",
       "        text-align: right;\n",
       "    }\n",
       "</style>\n",
       "<table border=\"1\" class=\"dataframe\">\n",
       "  <thead>\n",
       "    <tr style=\"text-align: right;\">\n",
       "      <th></th>\n",
       "      <th>weekday</th>\n",
       "      <th>total_purchase_amt</th>\n",
       "      <th>total_redeem_amt</th>\n",
       "      <th>purchase_weekday</th>\n",
       "      <th>redeem_weekday</th>\n",
       "    </tr>\n",
       "  </thead>\n",
       "  <tbody>\n",
       "    <tr>\n",
       "      <th>0</th>\n",
       "      <td>0</td>\n",
       "      <td>3.075183e+08</td>\n",
       "      <td>3.268733e+08</td>\n",
       "      <td>1.163446</td>\n",
       "      <td>1.226999</td>\n",
       "    </tr>\n",
       "    <tr>\n",
       "      <th>1</th>\n",
       "      <td>1</td>\n",
       "      <td>3.173125e+08</td>\n",
       "      <td>3.138971e+08</td>\n",
       "      <td>1.200501</td>\n",
       "      <td>1.178289</td>\n",
       "    </tr>\n",
       "    <tr>\n",
       "      <th>2</th>\n",
       "      <td>2</td>\n",
       "      <td>3.133103e+08</td>\n",
       "      <td>3.076354e+08</td>\n",
       "      <td>1.185360</td>\n",
       "      <td>1.154784</td>\n",
       "    </tr>\n",
       "    <tr>\n",
       "      <th>3</th>\n",
       "      <td>3</td>\n",
       "      <td>3.019386e+08</td>\n",
       "      <td>2.763898e+08</td>\n",
       "      <td>1.142336</td>\n",
       "      <td>1.037496</td>\n",
       "    </tr>\n",
       "    <tr>\n",
       "      <th>4</th>\n",
       "      <td>4</td>\n",
       "      <td>2.398712e+08</td>\n",
       "      <td>2.591565e+08</td>\n",
       "      <td>0.907514</td>\n",
       "      <td>0.972807</td>\n",
       "    </tr>\n",
       "    <tr>\n",
       "      <th>5</th>\n",
       "      <td>5</td>\n",
       "      <td>1.837682e+08</td>\n",
       "      <td>1.855464e+08</td>\n",
       "      <td>0.695258</td>\n",
       "      <td>0.696494</td>\n",
       "    </tr>\n",
       "    <tr>\n",
       "      <th>6</th>\n",
       "      <td>6</td>\n",
       "      <td>1.884616e+08</td>\n",
       "      <td>1.980553e+08</td>\n",
       "      <td>0.713014</td>\n",
       "      <td>0.743449</td>\n",
       "    </tr>\n",
       "  </tbody>\n",
       "</table>\n",
       "</div>"
      ],
      "text/plain": [
       "   weekday  total_purchase_amt  total_redeem_amt  purchase_weekday  \\\n",
       "0        0        3.075183e+08      3.268733e+08          1.163446   \n",
       "1        1        3.173125e+08      3.138971e+08          1.200501   \n",
       "2        2        3.133103e+08      3.076354e+08          1.185360   \n",
       "3        3        3.019386e+08      2.763898e+08          1.142336   \n",
       "4        4        2.398712e+08      2.591565e+08          0.907514   \n",
       "5        5        1.837682e+08      1.855464e+08          0.695258   \n",
       "6        6        1.884616e+08      1.980553e+08          0.713014   \n",
       "\n",
       "   redeem_weekday  \n",
       "0        1.226999  \n",
       "1        1.178289  \n",
       "2        1.154784  \n",
       "3        1.037496  \n",
       "4        0.972807  \n",
       "5        0.696494  \n",
       "6        0.743449  "
      ]
     },
     "execution_count": 130,
     "metadata": {},
     "output_type": "execute_result"
    }
   ],
   "source": [
    "weekday_weight = total_df.groupby(['weekday'])['total_purchase_amt', 'total_redeem_amt'].mean().reset_index()\n",
    "\n",
    "weekday_weight['purchase_weekday'] = weekday_weight['total_purchase_amt']/purchase2.mean()['total_purchase_amt']\n",
    "weekday_weight['redeem_weekday'] = weekday_weight['total_redeem_amt']/redeem2.mean()['total_redeem_amt']\n",
    "\n",
    "\n",
    "weekday_weight"
   ]
  },
  {
   "cell_type": "code",
   "execution_count": 131,
   "id": "pleasant-madrid",
   "metadata": {
    "ExecuteTime": {
     "end_time": "2021-10-24T15:58:45.857300Z",
     "start_time": "2021-10-24T15:58:45.842415Z"
    }
   },
   "outputs": [
    {
     "data": {
      "text/html": [
       "<div>\n",
       "<style scoped>\n",
       "    .dataframe tbody tr th:only-of-type {\n",
       "        vertical-align: middle;\n",
       "    }\n",
       "\n",
       "    .dataframe tbody tr th {\n",
       "        vertical-align: top;\n",
       "    }\n",
       "\n",
       "    .dataframe thead th {\n",
       "        text-align: right;\n",
       "    }\n",
       "</style>\n",
       "<table border=\"1\" class=\"dataframe\">\n",
       "  <thead>\n",
       "    <tr style=\"text-align: right;\">\n",
       "      <th></th>\n",
       "      <th>report_date</th>\n",
       "      <th>total_purchase_amt</th>\n",
       "      <th>day</th>\n",
       "      <th>weekday</th>\n",
       "      <th>total_redeem_amt</th>\n",
       "      <th>purchase_weekday</th>\n",
       "      <th>redeem_weekday</th>\n",
       "    </tr>\n",
       "  </thead>\n",
       "  <tbody>\n",
       "    <tr>\n",
       "      <th>0</th>\n",
       "      <td>2014-04-01</td>\n",
       "      <td>453320585</td>\n",
       "      <td>1</td>\n",
       "      <td>1</td>\n",
       "      <td>277429358</td>\n",
       "      <td>1.200501</td>\n",
       "      <td>1.178289</td>\n",
       "    </tr>\n",
       "    <tr>\n",
       "      <th>1</th>\n",
       "      <td>2014-04-02</td>\n",
       "      <td>355347118</td>\n",
       "      <td>2</td>\n",
       "      <td>2</td>\n",
       "      <td>272612066</td>\n",
       "      <td>1.185360</td>\n",
       "      <td>1.154784</td>\n",
       "    </tr>\n",
       "    <tr>\n",
       "      <th>2</th>\n",
       "      <td>2014-04-03</td>\n",
       "      <td>363877120</td>\n",
       "      <td>3</td>\n",
       "      <td>3</td>\n",
       "      <td>266605457</td>\n",
       "      <td>1.142336</td>\n",
       "      <td>1.037496</td>\n",
       "    </tr>\n",
       "    <tr>\n",
       "      <th>3</th>\n",
       "      <td>2014-04-04</td>\n",
       "      <td>251895894</td>\n",
       "      <td>4</td>\n",
       "      <td>4</td>\n",
       "      <td>200192637</td>\n",
       "      <td>0.907514</td>\n",
       "      <td>0.972807</td>\n",
       "    </tr>\n",
       "    <tr>\n",
       "      <th>4</th>\n",
       "      <td>2014-04-05</td>\n",
       "      <td>202336542</td>\n",
       "      <td>5</td>\n",
       "      <td>5</td>\n",
       "      <td>163199682</td>\n",
       "      <td>0.695258</td>\n",
       "      <td>0.696494</td>\n",
       "    </tr>\n",
       "  </tbody>\n",
       "</table>\n",
       "</div>"
      ],
      "text/plain": [
       "  report_date  total_purchase_amt  day  weekday  total_redeem_amt  \\\n",
       "0  2014-04-01           453320585    1        1         277429358   \n",
       "1  2014-04-02           355347118    2        2         272612066   \n",
       "2  2014-04-03           363877120    3        3         266605457   \n",
       "3  2014-04-04           251895894    4        4         200192637   \n",
       "4  2014-04-05           202336542    5        5         163199682   \n",
       "\n",
       "   purchase_weekday  redeem_weekday  \n",
       "0          1.200501        1.178289  \n",
       "1          1.185360        1.154784  \n",
       "2          1.142336        1.037496  \n",
       "3          0.907514        0.972807  \n",
       "4          0.695258        0.696494  "
      ]
     },
     "execution_count": 131,
     "metadata": {},
     "output_type": "execute_result"
    }
   ],
   "source": [
    "total_df = pd.merge(total_df, weekday_weight[['weekday', 'purchase_weekday', 'redeem_weekday']], \\\n",
    "                    on='weekday', how='left')\n",
    "total_df.head()"
   ]
  },
  {
   "cell_type": "markdown",
   "id": "liked-vienna",
   "metadata": {},
   "source": [
    "## 计算日期因子（month_day）"
   ]
  },
  {
   "cell_type": "code",
   "execution_count": 138,
   "id": "acoustic-injury",
   "metadata": {
    "ExecuteTime": {
     "end_time": "2021-10-24T16:31:22.582644Z",
     "start_time": "2021-10-24T16:31:22.561781Z"
    }
   },
   "outputs": [
    {
     "data": {
      "text/html": [
       "<div>\n",
       "<style scoped>\n",
       "    .dataframe tbody tr th:only-of-type {\n",
       "        vertical-align: middle;\n",
       "    }\n",
       "\n",
       "    .dataframe tbody tr th {\n",
       "        vertical-align: top;\n",
       "    }\n",
       "\n",
       "    .dataframe thead th {\n",
       "        text-align: right;\n",
       "    }\n",
       "</style>\n",
       "<table border=\"1\" class=\"dataframe\">\n",
       "  <thead>\n",
       "    <tr style=\"text-align: right;\">\n",
       "      <th></th>\n",
       "      <th>weekday</th>\n",
       "      <th>day</th>\n",
       "      <th>report_date</th>\n",
       "      <th>total_purchase_amt</th>\n",
       "      <th>total_redeem_amt</th>\n",
       "      <th>purchase_weekday</th>\n",
       "      <th>redeem_weekday</th>\n",
       "    </tr>\n",
       "  </thead>\n",
       "  <tbody>\n",
       "    <tr>\n",
       "      <th>0</th>\n",
       "      <td>0</td>\n",
       "      <td>2</td>\n",
       "      <td>1</td>\n",
       "      <td>3.075183e+08</td>\n",
       "      <td>3.268733e+08</td>\n",
       "      <td>1.163446</td>\n",
       "      <td>1.226999</td>\n",
       "    </tr>\n",
       "    <tr>\n",
       "      <th>1</th>\n",
       "      <td>0</td>\n",
       "      <td>4</td>\n",
       "      <td>1</td>\n",
       "      <td>3.075183e+08</td>\n",
       "      <td>3.268733e+08</td>\n",
       "      <td>1.163446</td>\n",
       "      <td>1.226999</td>\n",
       "    </tr>\n",
       "    <tr>\n",
       "      <th>2</th>\n",
       "      <td>0</td>\n",
       "      <td>5</td>\n",
       "      <td>1</td>\n",
       "      <td>3.075183e+08</td>\n",
       "      <td>3.268733e+08</td>\n",
       "      <td>1.163446</td>\n",
       "      <td>1.226999</td>\n",
       "    </tr>\n",
       "    <tr>\n",
       "      <th>3</th>\n",
       "      <td>0</td>\n",
       "      <td>7</td>\n",
       "      <td>2</td>\n",
       "      <td>3.075183e+08</td>\n",
       "      <td>3.268733e+08</td>\n",
       "      <td>1.163446</td>\n",
       "      <td>1.226999</td>\n",
       "    </tr>\n",
       "    <tr>\n",
       "      <th>4</th>\n",
       "      <td>0</td>\n",
       "      <td>9</td>\n",
       "      <td>1</td>\n",
       "      <td>3.075183e+08</td>\n",
       "      <td>3.268733e+08</td>\n",
       "      <td>1.163446</td>\n",
       "      <td>1.226999</td>\n",
       "    </tr>\n",
       "    <tr>\n",
       "      <th>...</th>\n",
       "      <td>...</td>\n",
       "      <td>...</td>\n",
       "      <td>...</td>\n",
       "      <td>...</td>\n",
       "      <td>...</td>\n",
       "      <td>...</td>\n",
       "      <td>...</td>\n",
       "    </tr>\n",
       "    <tr>\n",
       "      <th>118</th>\n",
       "      <td>6</td>\n",
       "      <td>24</td>\n",
       "      <td>1</td>\n",
       "      <td>1.884616e+08</td>\n",
       "      <td>1.980553e+08</td>\n",
       "      <td>0.713014</td>\n",
       "      <td>0.743449</td>\n",
       "    </tr>\n",
       "    <tr>\n",
       "      <th>119</th>\n",
       "      <td>6</td>\n",
       "      <td>25</td>\n",
       "      <td>1</td>\n",
       "      <td>1.884616e+08</td>\n",
       "      <td>1.980553e+08</td>\n",
       "      <td>0.713014</td>\n",
       "      <td>0.743449</td>\n",
       "    </tr>\n",
       "    <tr>\n",
       "      <th>120</th>\n",
       "      <td>6</td>\n",
       "      <td>27</td>\n",
       "      <td>2</td>\n",
       "      <td>1.884616e+08</td>\n",
       "      <td>1.980553e+08</td>\n",
       "      <td>0.713014</td>\n",
       "      <td>0.743449</td>\n",
       "    </tr>\n",
       "    <tr>\n",
       "      <th>121</th>\n",
       "      <td>6</td>\n",
       "      <td>29</td>\n",
       "      <td>1</td>\n",
       "      <td>1.884616e+08</td>\n",
       "      <td>1.980553e+08</td>\n",
       "      <td>0.713014</td>\n",
       "      <td>0.743449</td>\n",
       "    </tr>\n",
       "    <tr>\n",
       "      <th>122</th>\n",
       "      <td>6</td>\n",
       "      <td>31</td>\n",
       "      <td>1</td>\n",
       "      <td>1.884616e+08</td>\n",
       "      <td>1.980553e+08</td>\n",
       "      <td>0.713014</td>\n",
       "      <td>0.743449</td>\n",
       "    </tr>\n",
       "  </tbody>\n",
       "</table>\n",
       "<p>123 rows × 7 columns</p>\n",
       "</div>"
      ],
      "text/plain": [
       "     weekday  day  report_date  total_purchase_amt  total_redeem_amt  \\\n",
       "0          0    2            1        3.075183e+08      3.268733e+08   \n",
       "1          0    4            1        3.075183e+08      3.268733e+08   \n",
       "2          0    5            1        3.075183e+08      3.268733e+08   \n",
       "3          0    7            2        3.075183e+08      3.268733e+08   \n",
       "4          0    9            1        3.075183e+08      3.268733e+08   \n",
       "..       ...  ...          ...                 ...               ...   \n",
       "118        6   24            1        1.884616e+08      1.980553e+08   \n",
       "119        6   25            1        1.884616e+08      1.980553e+08   \n",
       "120        6   27            2        1.884616e+08      1.980553e+08   \n",
       "121        6   29            1        1.884616e+08      1.980553e+08   \n",
       "122        6   31            1        1.884616e+08      1.980553e+08   \n",
       "\n",
       "     purchase_weekday  redeem_weekday  \n",
       "0            1.163446        1.226999  \n",
       "1            1.163446        1.226999  \n",
       "2            1.163446        1.226999  \n",
       "3            1.163446        1.226999  \n",
       "4            1.163446        1.226999  \n",
       "..                ...             ...  \n",
       "118          0.713014        0.743449  \n",
       "119          0.713014        0.743449  \n",
       "120          0.713014        0.743449  \n",
       "121          0.713014        0.743449  \n",
       "122          0.713014        0.743449  \n",
       "\n",
       "[123 rows x 7 columns]"
      ]
     },
     "execution_count": 138,
     "metadata": {},
     "output_type": "execute_result"
    }
   ],
   "source": [
    "# 统计周一到周日('weekday')分别在1～31号('day')中出现的频次，显示在report_date一栏\n",
    "\n",
    "weekday_count = total_df.groupby(['weekday', 'day'])[['report_date']].count().reset_index()\n",
    "weekday_count = pd.merge(weekday_count, weekday_weight, on='weekday')\n",
    "weekday_count"
   ]
  },
  {
   "cell_type": "code",
   "execution_count": 139,
   "id": "religious-disorder",
   "metadata": {
    "ExecuteTime": {
     "end_time": "2021-10-24T16:33:30.703959Z",
     "start_time": "2021-10-24T16:33:30.688143Z"
    }
   },
   "outputs": [
    {
     "data": {
      "text/html": [
       "<div>\n",
       "<style scoped>\n",
       "    .dataframe tbody tr th:only-of-type {\n",
       "        vertical-align: middle;\n",
       "    }\n",
       "\n",
       "    .dataframe tbody tr th {\n",
       "        vertical-align: top;\n",
       "    }\n",
       "\n",
       "    .dataframe thead th {\n",
       "        text-align: right;\n",
       "    }\n",
       "</style>\n",
       "<table border=\"1\" class=\"dataframe\">\n",
       "  <thead>\n",
       "    <tr style=\"text-align: right;\">\n",
       "      <th></th>\n",
       "      <th>weekday</th>\n",
       "      <th>day</th>\n",
       "      <th>report_date</th>\n",
       "      <th>total_purchase_amt</th>\n",
       "      <th>total_redeem_amt</th>\n",
       "      <th>purchase_weekday</th>\n",
       "      <th>redeem_weekday</th>\n",
       "    </tr>\n",
       "  </thead>\n",
       "  <tbody>\n",
       "    <tr>\n",
       "      <th>0</th>\n",
       "      <td>0</td>\n",
       "      <td>2</td>\n",
       "      <td>1</td>\n",
       "      <td>3.075183e+08</td>\n",
       "      <td>3.268733e+08</td>\n",
       "      <td>0.232689</td>\n",
       "      <td>0.245400</td>\n",
       "    </tr>\n",
       "    <tr>\n",
       "      <th>1</th>\n",
       "      <td>0</td>\n",
       "      <td>4</td>\n",
       "      <td>1</td>\n",
       "      <td>3.075183e+08</td>\n",
       "      <td>3.268733e+08</td>\n",
       "      <td>0.232689</td>\n",
       "      <td>0.245400</td>\n",
       "    </tr>\n",
       "    <tr>\n",
       "      <th>2</th>\n",
       "      <td>0</td>\n",
       "      <td>5</td>\n",
       "      <td>1</td>\n",
       "      <td>3.075183e+08</td>\n",
       "      <td>3.268733e+08</td>\n",
       "      <td>0.232689</td>\n",
       "      <td>0.245400</td>\n",
       "    </tr>\n",
       "    <tr>\n",
       "      <th>3</th>\n",
       "      <td>0</td>\n",
       "      <td>7</td>\n",
       "      <td>2</td>\n",
       "      <td>3.075183e+08</td>\n",
       "      <td>3.268733e+08</td>\n",
       "      <td>0.465378</td>\n",
       "      <td>0.490799</td>\n",
       "    </tr>\n",
       "    <tr>\n",
       "      <th>4</th>\n",
       "      <td>0</td>\n",
       "      <td>9</td>\n",
       "      <td>1</td>\n",
       "      <td>3.075183e+08</td>\n",
       "      <td>3.268733e+08</td>\n",
       "      <td>0.232689</td>\n",
       "      <td>0.245400</td>\n",
       "    </tr>\n",
       "    <tr>\n",
       "      <th>...</th>\n",
       "      <td>...</td>\n",
       "      <td>...</td>\n",
       "      <td>...</td>\n",
       "      <td>...</td>\n",
       "      <td>...</td>\n",
       "      <td>...</td>\n",
       "      <td>...</td>\n",
       "    </tr>\n",
       "    <tr>\n",
       "      <th>118</th>\n",
       "      <td>6</td>\n",
       "      <td>24</td>\n",
       "      <td>1</td>\n",
       "      <td>1.884616e+08</td>\n",
       "      <td>1.980553e+08</td>\n",
       "      <td>0.142603</td>\n",
       "      <td>0.148690</td>\n",
       "    </tr>\n",
       "    <tr>\n",
       "      <th>119</th>\n",
       "      <td>6</td>\n",
       "      <td>25</td>\n",
       "      <td>1</td>\n",
       "      <td>1.884616e+08</td>\n",
       "      <td>1.980553e+08</td>\n",
       "      <td>0.142603</td>\n",
       "      <td>0.148690</td>\n",
       "    </tr>\n",
       "    <tr>\n",
       "      <th>120</th>\n",
       "      <td>6</td>\n",
       "      <td>27</td>\n",
       "      <td>2</td>\n",
       "      <td>1.884616e+08</td>\n",
       "      <td>1.980553e+08</td>\n",
       "      <td>0.285206</td>\n",
       "      <td>0.297380</td>\n",
       "    </tr>\n",
       "    <tr>\n",
       "      <th>121</th>\n",
       "      <td>6</td>\n",
       "      <td>29</td>\n",
       "      <td>1</td>\n",
       "      <td>1.884616e+08</td>\n",
       "      <td>1.980553e+08</td>\n",
       "      <td>0.142603</td>\n",
       "      <td>0.148690</td>\n",
       "    </tr>\n",
       "    <tr>\n",
       "      <th>122</th>\n",
       "      <td>6</td>\n",
       "      <td>31</td>\n",
       "      <td>1</td>\n",
       "      <td>1.884616e+08</td>\n",
       "      <td>1.980553e+08</td>\n",
       "      <td>0.142603</td>\n",
       "      <td>0.148690</td>\n",
       "    </tr>\n",
       "  </tbody>\n",
       "</table>\n",
       "<p>123 rows × 7 columns</p>\n",
       "</div>"
      ],
      "text/plain": [
       "     weekday  day  report_date  total_purchase_amt  total_redeem_amt  \\\n",
       "0          0    2            1        3.075183e+08      3.268733e+08   \n",
       "1          0    4            1        3.075183e+08      3.268733e+08   \n",
       "2          0    5            1        3.075183e+08      3.268733e+08   \n",
       "3          0    7            2        3.075183e+08      3.268733e+08   \n",
       "4          0    9            1        3.075183e+08      3.268733e+08   \n",
       "..       ...  ...          ...                 ...               ...   \n",
       "118        6   24            1        1.884616e+08      1.980553e+08   \n",
       "119        6   25            1        1.884616e+08      1.980553e+08   \n",
       "120        6   27            2        1.884616e+08      1.980553e+08   \n",
       "121        6   29            1        1.884616e+08      1.980553e+08   \n",
       "122        6   31            1        1.884616e+08      1.980553e+08   \n",
       "\n",
       "     purchase_weekday  redeem_weekday  \n",
       "0            0.232689        0.245400  \n",
       "1            0.232689        0.245400  \n",
       "2            0.232689        0.245400  \n",
       "3            0.465378        0.490799  \n",
       "4            0.232689        0.245400  \n",
       "..                ...             ...  \n",
       "118          0.142603        0.148690  \n",
       "119          0.142603        0.148690  \n",
       "120          0.285206        0.297380  \n",
       "121          0.142603        0.148690  \n",
       "122          0.142603        0.148690  \n",
       "\n",
       "[123 rows x 7 columns]"
      ]
     },
     "execution_count": 139,
     "metadata": {},
     "output_type": "execute_result"
    }
   ],
   "source": [
    "# 周期因子 * 周一到周日('weekday')在1～31号('day')中出现的频次 / 一共多少个月\n",
    "# 频次：用于计算weekday周期因子对month_day贡献了多少次\n",
    "\n",
    "weekday_count['purchase_weekday'] = weekday_count['purchase_weekday'] * weekday_count['report_date'] / total_df['report_date'].dt.month.nunique()\n",
    "weekday_count['redeem_weekday'] = weekday_count['redeem_weekday'] * weekday_count['report_date'] / total_df['report_date'].dt.month.nunique()\n",
    "\n",
    "weekday_count\n"
   ]
  },
  {
   "cell_type": "code",
   "execution_count": 144,
   "id": "terminal-emphasis",
   "metadata": {
    "ExecuteTime": {
     "end_time": "2021-10-24T17:01:10.540675Z",
     "start_time": "2021-10-24T17:01:10.528586Z"
    }
   },
   "outputs": [
    {
     "data": {
      "text/html": [
       "<div>\n",
       "<style scoped>\n",
       "    .dataframe tbody tr th:only-of-type {\n",
       "        vertical-align: middle;\n",
       "    }\n",
       "\n",
       "    .dataframe tbody tr th {\n",
       "        vertical-align: top;\n",
       "    }\n",
       "\n",
       "    .dataframe thead th {\n",
       "        text-align: right;\n",
       "    }\n",
       "</style>\n",
       "<table border=\"1\" class=\"dataframe\">\n",
       "  <thead>\n",
       "    <tr style=\"text-align: right;\">\n",
       "      <th></th>\n",
       "      <th>day</th>\n",
       "      <th>purchase_weekday</th>\n",
       "      <th>redeem_weekday</th>\n",
       "    </tr>\n",
       "  </thead>\n",
       "  <tbody>\n",
       "    <tr>\n",
       "      <th>0</th>\n",
       "      <td>1</td>\n",
       "      <td>1.032773</td>\n",
       "      <td>1.022066</td>\n",
       "    </tr>\n",
       "    <tr>\n",
       "      <th>1</th>\n",
       "      <td>2</td>\n",
       "      <td>1.027387</td>\n",
       "      <td>1.041174</td>\n",
       "    </tr>\n",
       "    <tr>\n",
       "      <th>2</th>\n",
       "      <td>3</td>\n",
       "      <td>0.978689</td>\n",
       "      <td>0.938645</td>\n",
       "    </tr>\n",
       "    <tr>\n",
       "      <th>3</th>\n",
       "      <td>4</td>\n",
       "      <td>0.975370</td>\n",
       "      <td>1.014169</td>\n",
       "    </tr>\n",
       "    <tr>\n",
       "      <th>4</th>\n",
       "      <td>5</td>\n",
       "      <td>0.979360</td>\n",
       "      <td>0.967154</td>\n",
       "    </tr>\n",
       "    <tr>\n",
       "      <th>5</th>\n",
       "      <td>6</td>\n",
       "      <td>0.943881</td>\n",
       "      <td>0.958556</td>\n",
       "    </tr>\n",
       "    <tr>\n",
       "      <th>6</th>\n",
       "      <td>7</td>\n",
       "      <td>1.069969</td>\n",
       "      <td>1.068554</td>\n",
       "    </tr>\n",
       "    <tr>\n",
       "      <th>7</th>\n",
       "      <td>8</td>\n",
       "      <td>1.032773</td>\n",
       "      <td>1.022066</td>\n",
       "    </tr>\n",
       "    <tr>\n",
       "      <th>8</th>\n",
       "      <td>9</td>\n",
       "      <td>1.027387</td>\n",
       "      <td>1.041174</td>\n",
       "    </tr>\n",
       "    <tr>\n",
       "      <th>9</th>\n",
       "      <td>10</td>\n",
       "      <td>0.978689</td>\n",
       "      <td>0.938645</td>\n",
       "    </tr>\n",
       "    <tr>\n",
       "      <th>10</th>\n",
       "      <td>11</td>\n",
       "      <td>0.975370</td>\n",
       "      <td>1.014169</td>\n",
       "    </tr>\n",
       "    <tr>\n",
       "      <th>11</th>\n",
       "      <td>12</td>\n",
       "      <td>0.979360</td>\n",
       "      <td>0.967154</td>\n",
       "    </tr>\n",
       "    <tr>\n",
       "      <th>12</th>\n",
       "      <td>13</td>\n",
       "      <td>0.943881</td>\n",
       "      <td>0.958556</td>\n",
       "    </tr>\n",
       "    <tr>\n",
       "      <th>13</th>\n",
       "      <td>14</td>\n",
       "      <td>1.069969</td>\n",
       "      <td>1.068554</td>\n",
       "    </tr>\n",
       "    <tr>\n",
       "      <th>14</th>\n",
       "      <td>15</td>\n",
       "      <td>1.032773</td>\n",
       "      <td>1.022066</td>\n",
       "    </tr>\n",
       "    <tr>\n",
       "      <th>15</th>\n",
       "      <td>16</td>\n",
       "      <td>1.027387</td>\n",
       "      <td>1.041174</td>\n",
       "    </tr>\n",
       "    <tr>\n",
       "      <th>16</th>\n",
       "      <td>17</td>\n",
       "      <td>0.978689</td>\n",
       "      <td>0.938645</td>\n",
       "    </tr>\n",
       "    <tr>\n",
       "      <th>17</th>\n",
       "      <td>18</td>\n",
       "      <td>0.975370</td>\n",
       "      <td>1.014169</td>\n",
       "    </tr>\n",
       "    <tr>\n",
       "      <th>18</th>\n",
       "      <td>19</td>\n",
       "      <td>0.979360</td>\n",
       "      <td>0.967154</td>\n",
       "    </tr>\n",
       "    <tr>\n",
       "      <th>19</th>\n",
       "      <td>20</td>\n",
       "      <td>0.943881</td>\n",
       "      <td>0.958556</td>\n",
       "    </tr>\n",
       "    <tr>\n",
       "      <th>20</th>\n",
       "      <td>21</td>\n",
       "      <td>1.069969</td>\n",
       "      <td>1.068554</td>\n",
       "    </tr>\n",
       "    <tr>\n",
       "      <th>21</th>\n",
       "      <td>22</td>\n",
       "      <td>1.032773</td>\n",
       "      <td>1.022066</td>\n",
       "    </tr>\n",
       "    <tr>\n",
       "      <th>22</th>\n",
       "      <td>23</td>\n",
       "      <td>1.027387</td>\n",
       "      <td>1.041174</td>\n",
       "    </tr>\n",
       "    <tr>\n",
       "      <th>23</th>\n",
       "      <td>24</td>\n",
       "      <td>0.978689</td>\n",
       "      <td>0.938645</td>\n",
       "    </tr>\n",
       "    <tr>\n",
       "      <th>24</th>\n",
       "      <td>25</td>\n",
       "      <td>0.975370</td>\n",
       "      <td>1.014169</td>\n",
       "    </tr>\n",
       "    <tr>\n",
       "      <th>25</th>\n",
       "      <td>26</td>\n",
       "      <td>0.979360</td>\n",
       "      <td>0.967154</td>\n",
       "    </tr>\n",
       "    <tr>\n",
       "      <th>26</th>\n",
       "      <td>27</td>\n",
       "      <td>0.943881</td>\n",
       "      <td>0.958556</td>\n",
       "    </tr>\n",
       "    <tr>\n",
       "      <th>27</th>\n",
       "      <td>28</td>\n",
       "      <td>1.069969</td>\n",
       "      <td>1.068554</td>\n",
       "    </tr>\n",
       "    <tr>\n",
       "      <th>28</th>\n",
       "      <td>29</td>\n",
       "      <td>1.032773</td>\n",
       "      <td>1.022066</td>\n",
       "    </tr>\n",
       "    <tr>\n",
       "      <th>29</th>\n",
       "      <td>30</td>\n",
       "      <td>1.027387</td>\n",
       "      <td>1.041174</td>\n",
       "    </tr>\n",
       "    <tr>\n",
       "      <th>30</th>\n",
       "      <td>31</td>\n",
       "      <td>0.510122</td>\n",
       "      <td>0.495488</td>\n",
       "    </tr>\n",
       "  </tbody>\n",
       "</table>\n",
       "</div>"
      ],
      "text/plain": [
       "    day  purchase_weekday  redeem_weekday\n",
       "0     1          1.032773        1.022066\n",
       "1     2          1.027387        1.041174\n",
       "2     3          0.978689        0.938645\n",
       "3     4          0.975370        1.014169\n",
       "4     5          0.979360        0.967154\n",
       "5     6          0.943881        0.958556\n",
       "6     7          1.069969        1.068554\n",
       "7     8          1.032773        1.022066\n",
       "8     9          1.027387        1.041174\n",
       "9    10          0.978689        0.938645\n",
       "10   11          0.975370        1.014169\n",
       "11   12          0.979360        0.967154\n",
       "12   13          0.943881        0.958556\n",
       "13   14          1.069969        1.068554\n",
       "14   15          1.032773        1.022066\n",
       "15   16          1.027387        1.041174\n",
       "16   17          0.978689        0.938645\n",
       "17   18          0.975370        1.014169\n",
       "18   19          0.979360        0.967154\n",
       "19   20          0.943881        0.958556\n",
       "20   21          1.069969        1.068554\n",
       "21   22          1.032773        1.022066\n",
       "22   23          1.027387        1.041174\n",
       "23   24          0.978689        0.938645\n",
       "24   25          0.975370        1.014169\n",
       "25   26          0.979360        0.967154\n",
       "26   27          0.943881        0.958556\n",
       "27   28          1.069969        1.068554\n",
       "28   29          1.032773        1.022066\n",
       "29   30          1.027387        1.041174\n",
       "30   31          0.510122        0.495488"
      ]
     },
     "execution_count": 144,
     "metadata": {},
     "output_type": "execute_result"
    }
   ],
   "source": [
    "# 计算weekday对平均每月（因为之前除以了月份个数）中的month_day的影响力：即month_day基于weekday因子获得加权均值\n",
    "\n",
    "day_rate = weekday_count.groupby(['day'])[['purchase_weekday', 'redeem_weekday']].sum().reset_index()\n",
    "day_rate"
   ]
  },
  {
   "cell_type": "code",
   "execution_count": 147,
   "id": "controversial-identification",
   "metadata": {
    "ExecuteTime": {
     "end_time": "2021-10-24T19:59:33.306265Z",
     "start_time": "2021-10-24T19:59:33.262633Z"
    }
   },
   "outputs": [
    {
     "data": {
      "text/plain": [
       "day                 31.000000\n",
       "purchase_weekday     0.850203\n",
       "redeem_weekday       0.825813\n",
       "Name: 30, dtype: float64"
      ]
     },
     "execution_count": 147,
     "metadata": {},
     "output_type": "execute_result"
    }
   ],
   "source": [
    "# 特殊处理31号，因为5个月中出现了31号的只有3次：5月31日，7月31日，8月31日\n",
    "\n",
    "day_rate.loc[30,'purchase_weekday'] *= 5/3\n",
    "day_rate.loc[30,'redeem_weekday'] *= 5/3\n",
    "day_rate.loc[30]"
   ]
  },
  {
   "cell_type": "code",
   "execution_count": 143,
   "id": "typical-adolescent",
   "metadata": {
    "ExecuteTime": {
     "end_time": "2021-10-24T16:55:49.549011Z",
     "start_time": "2021-10-24T16:55:49.529848Z"
    }
   },
   "outputs": [
    {
     "data": {
      "text/html": [
       "<div>\n",
       "<style scoped>\n",
       "    .dataframe tbody tr th:only-of-type {\n",
       "        vertical-align: middle;\n",
       "    }\n",
       "\n",
       "    .dataframe tbody tr th {\n",
       "        vertical-align: top;\n",
       "    }\n",
       "\n",
       "    .dataframe thead th {\n",
       "        text-align: right;\n",
       "    }\n",
       "</style>\n",
       "<table border=\"1\" class=\"dataframe\">\n",
       "  <thead>\n",
       "    <tr style=\"text-align: right;\">\n",
       "      <th></th>\n",
       "      <th>day</th>\n",
       "      <th>total_purchase_amt</th>\n",
       "      <th>total_redeem_amt</th>\n",
       "    </tr>\n",
       "  </thead>\n",
       "  <tbody>\n",
       "    <tr>\n",
       "      <th>0</th>\n",
       "      <td>1</td>\n",
       "      <td>3.178338e+08</td>\n",
       "      <td>2.394654e+08</td>\n",
       "    </tr>\n",
       "    <tr>\n",
       "      <th>1</th>\n",
       "      <td>2</td>\n",
       "      <td>2.425101e+08</td>\n",
       "      <td>2.130890e+08</td>\n",
       "    </tr>\n",
       "    <tr>\n",
       "      <th>2</th>\n",
       "      <td>3</td>\n",
       "      <td>2.583158e+08</td>\n",
       "      <td>2.535862e+08</td>\n",
       "    </tr>\n",
       "    <tr>\n",
       "      <th>3</th>\n",
       "      <td>4</td>\n",
       "      <td>2.743470e+08</td>\n",
       "      <td>3.009591e+08</td>\n",
       "    </tr>\n",
       "    <tr>\n",
       "      <th>4</th>\n",
       "      <td>5</td>\n",
       "      <td>3.034936e+08</td>\n",
       "      <td>2.644835e+08</td>\n",
       "    </tr>\n",
       "    <tr>\n",
       "      <th>5</th>\n",
       "      <td>6</td>\n",
       "      <td>2.474568e+08</td>\n",
       "      <td>2.466850e+08</td>\n",
       "    </tr>\n",
       "    <tr>\n",
       "      <th>6</th>\n",
       "      <td>7</td>\n",
       "      <td>2.643790e+08</td>\n",
       "      <td>2.267630e+08</td>\n",
       "    </tr>\n",
       "    <tr>\n",
       "      <th>7</th>\n",
       "      <td>8</td>\n",
       "      <td>3.015848e+08</td>\n",
       "      <td>2.689660e+08</td>\n",
       "    </tr>\n",
       "    <tr>\n",
       "      <th>8</th>\n",
       "      <td>9</td>\n",
       "      <td>2.938419e+08</td>\n",
       "      <td>2.515698e+08</td>\n",
       "    </tr>\n",
       "    <tr>\n",
       "      <th>9</th>\n",
       "      <td>10</td>\n",
       "      <td>3.140940e+08</td>\n",
       "      <td>2.496543e+08</td>\n",
       "    </tr>\n",
       "    <tr>\n",
       "      <th>10</th>\n",
       "      <td>11</td>\n",
       "      <td>2.576274e+08</td>\n",
       "      <td>2.669609e+08</td>\n",
       "    </tr>\n",
       "    <tr>\n",
       "      <th>11</th>\n",
       "      <td>12</td>\n",
       "      <td>2.542508e+08</td>\n",
       "      <td>2.225105e+08</td>\n",
       "    </tr>\n",
       "    <tr>\n",
       "      <th>12</th>\n",
       "      <td>13</td>\n",
       "      <td>2.283210e+08</td>\n",
       "      <td>2.654175e+08</td>\n",
       "    </tr>\n",
       "    <tr>\n",
       "      <th>13</th>\n",
       "      <td>14</td>\n",
       "      <td>2.618805e+08</td>\n",
       "      <td>2.917643e+08</td>\n",
       "    </tr>\n",
       "    <tr>\n",
       "      <th>14</th>\n",
       "      <td>15</td>\n",
       "      <td>2.974980e+08</td>\n",
       "      <td>2.276925e+08</td>\n",
       "    </tr>\n",
       "    <tr>\n",
       "      <th>15</th>\n",
       "      <td>16</td>\n",
       "      <td>3.234147e+08</td>\n",
       "      <td>2.968699e+08</td>\n",
       "    </tr>\n",
       "    <tr>\n",
       "      <th>16</th>\n",
       "      <td>17</td>\n",
       "      <td>2.400234e+08</td>\n",
       "      <td>2.703199e+08</td>\n",
       "    </tr>\n",
       "    <tr>\n",
       "      <th>17</th>\n",
       "      <td>18</td>\n",
       "      <td>2.492883e+08</td>\n",
       "      <td>2.538307e+08</td>\n",
       "    </tr>\n",
       "    <tr>\n",
       "      <th>18</th>\n",
       "      <td>19</td>\n",
       "      <td>2.686273e+08</td>\n",
       "      <td>2.271034e+08</td>\n",
       "    </tr>\n",
       "    <tr>\n",
       "      <th>19</th>\n",
       "      <td>20</td>\n",
       "      <td>2.763251e+08</td>\n",
       "      <td>2.169194e+08</td>\n",
       "    </tr>\n",
       "    <tr>\n",
       "      <th>20</th>\n",
       "      <td>21</td>\n",
       "      <td>2.813571e+08</td>\n",
       "      <td>2.862035e+08</td>\n",
       "    </tr>\n",
       "    <tr>\n",
       "      <th>21</th>\n",
       "      <td>22</td>\n",
       "      <td>2.532933e+08</td>\n",
       "      <td>2.859194e+08</td>\n",
       "    </tr>\n",
       "    <tr>\n",
       "      <th>22</th>\n",
       "      <td>23</td>\n",
       "      <td>2.404650e+08</td>\n",
       "      <td>2.777964e+08</td>\n",
       "    </tr>\n",
       "    <tr>\n",
       "      <th>23</th>\n",
       "      <td>24</td>\n",
       "      <td>2.262246e+08</td>\n",
       "      <td>2.692241e+08</td>\n",
       "    </tr>\n",
       "    <tr>\n",
       "      <th>24</th>\n",
       "      <td>25</td>\n",
       "      <td>2.287499e+08</td>\n",
       "      <td>3.162706e+08</td>\n",
       "    </tr>\n",
       "    <tr>\n",
       "      <th>25</th>\n",
       "      <td>26</td>\n",
       "      <td>2.458715e+08</td>\n",
       "      <td>2.839409e+08</td>\n",
       "    </tr>\n",
       "    <tr>\n",
       "      <th>26</th>\n",
       "      <td>27</td>\n",
       "      <td>2.327543e+08</td>\n",
       "      <td>3.096201e+08</td>\n",
       "    </tr>\n",
       "    <tr>\n",
       "      <th>27</th>\n",
       "      <td>28</td>\n",
       "      <td>2.743488e+08</td>\n",
       "      <td>3.341795e+08</td>\n",
       "    </tr>\n",
       "    <tr>\n",
       "      <th>28</th>\n",
       "      <td>29</td>\n",
       "      <td>2.611213e+08</td>\n",
       "      <td>2.919627e+08</td>\n",
       "    </tr>\n",
       "    <tr>\n",
       "      <th>29</th>\n",
       "      <td>30</td>\n",
       "      <td>2.460638e+08</td>\n",
       "      <td>2.995356e+08</td>\n",
       "    </tr>\n",
       "    <tr>\n",
       "      <th>30</th>\n",
       "      <td>31</td>\n",
       "      <td>2.045476e+08</td>\n",
       "      <td>2.376665e+08</td>\n",
       "    </tr>\n",
       "  </tbody>\n",
       "</table>\n",
       "</div>"
      ],
      "text/plain": [
       "    day  total_purchase_amt  total_redeem_amt\n",
       "0     1        3.178338e+08      2.394654e+08\n",
       "1     2        2.425101e+08      2.130890e+08\n",
       "2     3        2.583158e+08      2.535862e+08\n",
       "3     4        2.743470e+08      3.009591e+08\n",
       "4     5        3.034936e+08      2.644835e+08\n",
       "5     6        2.474568e+08      2.466850e+08\n",
       "6     7        2.643790e+08      2.267630e+08\n",
       "7     8        3.015848e+08      2.689660e+08\n",
       "8     9        2.938419e+08      2.515698e+08\n",
       "9    10        3.140940e+08      2.496543e+08\n",
       "10   11        2.576274e+08      2.669609e+08\n",
       "11   12        2.542508e+08      2.225105e+08\n",
       "12   13        2.283210e+08      2.654175e+08\n",
       "13   14        2.618805e+08      2.917643e+08\n",
       "14   15        2.974980e+08      2.276925e+08\n",
       "15   16        3.234147e+08      2.968699e+08\n",
       "16   17        2.400234e+08      2.703199e+08\n",
       "17   18        2.492883e+08      2.538307e+08\n",
       "18   19        2.686273e+08      2.271034e+08\n",
       "19   20        2.763251e+08      2.169194e+08\n",
       "20   21        2.813571e+08      2.862035e+08\n",
       "21   22        2.532933e+08      2.859194e+08\n",
       "22   23        2.404650e+08      2.777964e+08\n",
       "23   24        2.262246e+08      2.692241e+08\n",
       "24   25        2.287499e+08      3.162706e+08\n",
       "25   26        2.458715e+08      2.839409e+08\n",
       "26   27        2.327543e+08      3.096201e+08\n",
       "27   28        2.743488e+08      3.341795e+08\n",
       "28   29        2.611213e+08      2.919627e+08\n",
       "29   30        2.460638e+08      2.995356e+08\n",
       "30   31        2.045476e+08      2.376665e+08"
      ]
     },
     "execution_count": 143,
     "metadata": {},
     "output_type": "execute_result"
    }
   ],
   "source": [
    "# 按照日期（day）计算1号均值，2号均值...\n",
    "\n",
    "day_mean = total_df.groupby(['day'])[['total_purchase_amt', 'total_redeem_amt']].mean().reset_index()\n",
    "day_mean"
   ]
  },
  {
   "cell_type": "code",
   "execution_count": 146,
   "id": "scenic-xerox",
   "metadata": {
    "ExecuteTime": {
     "end_time": "2021-10-24T18:58:34.138081Z",
     "start_time": "2021-10-24T18:58:34.116858Z"
    }
   },
   "outputs": [
    {
     "data": {
      "text/html": [
       "<div>\n",
       "<style scoped>\n",
       "    .dataframe tbody tr th:only-of-type {\n",
       "        vertical-align: middle;\n",
       "    }\n",
       "\n",
       "    .dataframe tbody tr th {\n",
       "        vertical-align: top;\n",
       "    }\n",
       "\n",
       "    .dataframe thead th {\n",
       "        text-align: right;\n",
       "    }\n",
       "</style>\n",
       "<table border=\"1\" class=\"dataframe\">\n",
       "  <thead>\n",
       "    <tr style=\"text-align: right;\">\n",
       "      <th></th>\n",
       "      <th>day</th>\n",
       "      <th>total_purchase_amt</th>\n",
       "      <th>total_redeem_amt</th>\n",
       "      <th>purchase_weekday</th>\n",
       "      <th>redeem_weekday</th>\n",
       "    </tr>\n",
       "  </thead>\n",
       "  <tbody>\n",
       "    <tr>\n",
       "      <th>0</th>\n",
       "      <td>1</td>\n",
       "      <td>3.077478e+08</td>\n",
       "      <td>2.342954e+08</td>\n",
       "      <td>1.032773</td>\n",
       "      <td>1.022066</td>\n",
       "    </tr>\n",
       "    <tr>\n",
       "      <th>1</th>\n",
       "      <td>2</td>\n",
       "      <td>2.360455e+08</td>\n",
       "      <td>2.046623e+08</td>\n",
       "      <td>1.027387</td>\n",
       "      <td>1.041174</td>\n",
       "    </tr>\n",
       "    <tr>\n",
       "      <th>2</th>\n",
       "      <td>3</td>\n",
       "      <td>2.639406e+08</td>\n",
       "      <td>2.701620e+08</td>\n",
       "      <td>0.978689</td>\n",
       "      <td>0.938645</td>\n",
       "    </tr>\n",
       "    <tr>\n",
       "      <th>3</th>\n",
       "      <td>4</td>\n",
       "      <td>2.812749e+08</td>\n",
       "      <td>2.967544e+08</td>\n",
       "      <td>0.975370</td>\n",
       "      <td>1.014169</td>\n",
       "    </tr>\n",
       "    <tr>\n",
       "      <th>4</th>\n",
       "      <td>5</td>\n",
       "      <td>3.098898e+08</td>\n",
       "      <td>2.734657e+08</td>\n",
       "      <td>0.979360</td>\n",
       "      <td>0.967154</td>\n",
       "    </tr>\n",
       "    <tr>\n",
       "      <th>5</th>\n",
       "      <td>6</td>\n",
       "      <td>2.621696e+08</td>\n",
       "      <td>2.573507e+08</td>\n",
       "      <td>0.943881</td>\n",
       "      <td>0.958556</td>\n",
       "    </tr>\n",
       "    <tr>\n",
       "      <th>6</th>\n",
       "      <td>7</td>\n",
       "      <td>2.470903e+08</td>\n",
       "      <td>2.122148e+08</td>\n",
       "      <td>1.069969</td>\n",
       "      <td>1.068554</td>\n",
       "    </tr>\n",
       "    <tr>\n",
       "      <th>7</th>\n",
       "      <td>8</td>\n",
       "      <td>2.920145e+08</td>\n",
       "      <td>2.631591e+08</td>\n",
       "      <td>1.032773</td>\n",
       "      <td>1.022066</td>\n",
       "    </tr>\n",
       "    <tr>\n",
       "      <th>8</th>\n",
       "      <td>9</td>\n",
       "      <td>2.860088e+08</td>\n",
       "      <td>2.416214e+08</td>\n",
       "      <td>1.027387</td>\n",
       "      <td>1.041174</td>\n",
       "    </tr>\n",
       "    <tr>\n",
       "      <th>9</th>\n",
       "      <td>10</td>\n",
       "      <td>3.209334e+08</td>\n",
       "      <td>2.659731e+08</td>\n",
       "      <td>0.978689</td>\n",
       "      <td>0.938645</td>\n",
       "    </tr>\n",
       "    <tr>\n",
       "      <th>10</th>\n",
       "      <td>11</td>\n",
       "      <td>2.641331e+08</td>\n",
       "      <td>2.632312e+08</td>\n",
       "      <td>0.975370</td>\n",
       "      <td>1.014169</td>\n",
       "    </tr>\n",
       "    <tr>\n",
       "      <th>11</th>\n",
       "      <td>12</td>\n",
       "      <td>2.596092e+08</td>\n",
       "      <td>2.300672e+08</td>\n",
       "      <td>0.979360</td>\n",
       "      <td>0.967154</td>\n",
       "    </tr>\n",
       "    <tr>\n",
       "      <th>12</th>\n",
       "      <td>13</td>\n",
       "      <td>2.418960e+08</td>\n",
       "      <td>2.768932e+08</td>\n",
       "      <td>0.943881</td>\n",
       "      <td>0.958556</td>\n",
       "    </tr>\n",
       "    <tr>\n",
       "      <th>13</th>\n",
       "      <td>14</td>\n",
       "      <td>2.447552e+08</td>\n",
       "      <td>2.730458e+08</td>\n",
       "      <td>1.069969</td>\n",
       "      <td>1.068554</td>\n",
       "    </tr>\n",
       "    <tr>\n",
       "      <th>14</th>\n",
       "      <td>15</td>\n",
       "      <td>2.880574e+08</td>\n",
       "      <td>2.227767e+08</td>\n",
       "      <td>1.032773</td>\n",
       "      <td>1.022066</td>\n",
       "    </tr>\n",
       "    <tr>\n",
       "      <th>15</th>\n",
       "      <td>16</td>\n",
       "      <td>3.147933e+08</td>\n",
       "      <td>2.851300e+08</td>\n",
       "      <td>1.027387</td>\n",
       "      <td>1.041174</td>\n",
       "    </tr>\n",
       "    <tr>\n",
       "      <th>16</th>\n",
       "      <td>17</td>\n",
       "      <td>2.452498e+08</td>\n",
       "      <td>2.879896e+08</td>\n",
       "      <td>0.978689</td>\n",
       "      <td>0.938645</td>\n",
       "    </tr>\n",
       "    <tr>\n",
       "      <th>17</th>\n",
       "      <td>18</td>\n",
       "      <td>2.555834e+08</td>\n",
       "      <td>2.502844e+08</td>\n",
       "      <td>0.975370</td>\n",
       "      <td>1.014169</td>\n",
       "    </tr>\n",
       "    <tr>\n",
       "      <th>18</th>\n",
       "      <td>19</td>\n",
       "      <td>2.742887e+08</td>\n",
       "      <td>2.348160e+08</td>\n",
       "      <td>0.979360</td>\n",
       "      <td>0.967154</td>\n",
       "    </tr>\n",
       "    <tr>\n",
       "      <th>19</th>\n",
       "      <td>20</td>\n",
       "      <td>2.927542e+08</td>\n",
       "      <td>2.262982e+08</td>\n",
       "      <td>0.943881</td>\n",
       "      <td>0.958556</td>\n",
       "    </tr>\n",
       "    <tr>\n",
       "      <th>20</th>\n",
       "      <td>21</td>\n",
       "      <td>2.629582e+08</td>\n",
       "      <td>2.678418e+08</td>\n",
       "      <td>1.069969</td>\n",
       "      <td>1.068554</td>\n",
       "    </tr>\n",
       "    <tr>\n",
       "      <th>21</th>\n",
       "      <td>22</td>\n",
       "      <td>2.452554e+08</td>\n",
       "      <td>2.797465e+08</td>\n",
       "      <td>1.032773</td>\n",
       "      <td>1.022066</td>\n",
       "    </tr>\n",
       "    <tr>\n",
       "      <th>22</th>\n",
       "      <td>23</td>\n",
       "      <td>2.340549e+08</td>\n",
       "      <td>2.668108e+08</td>\n",
       "      <td>1.027387</td>\n",
       "      <td>1.041174</td>\n",
       "    </tr>\n",
       "    <tr>\n",
       "      <th>23</th>\n",
       "      <td>24</td>\n",
       "      <td>2.311506e+08</td>\n",
       "      <td>2.868221e+08</td>\n",
       "      <td>0.978689</td>\n",
       "      <td>0.938645</td>\n",
       "    </tr>\n",
       "    <tr>\n",
       "      <th>24</th>\n",
       "      <td>25</td>\n",
       "      <td>2.345264e+08</td>\n",
       "      <td>3.118520e+08</td>\n",
       "      <td>0.975370</td>\n",
       "      <td>1.014169</td>\n",
       "    </tr>\n",
       "    <tr>\n",
       "      <th>25</th>\n",
       "      <td>26</td>\n",
       "      <td>2.510533e+08</td>\n",
       "      <td>2.935839e+08</td>\n",
       "      <td>0.979360</td>\n",
       "      <td>0.967154</td>\n",
       "    </tr>\n",
       "    <tr>\n",
       "      <th>26</th>\n",
       "      <td>27</td>\n",
       "      <td>2.465929e+08</td>\n",
       "      <td>3.230069e+08</td>\n",
       "      <td>0.943881</td>\n",
       "      <td>0.958556</td>\n",
       "    </tr>\n",
       "    <tr>\n",
       "      <th>27</th>\n",
       "      <td>28</td>\n",
       "      <td>2.564081e+08</td>\n",
       "      <td>3.127398e+08</td>\n",
       "      <td>1.069969</td>\n",
       "      <td>1.068554</td>\n",
       "    </tr>\n",
       "    <tr>\n",
       "      <th>28</th>\n",
       "      <td>29</td>\n",
       "      <td>2.528350e+08</td>\n",
       "      <td>2.856593e+08</td>\n",
       "      <td>1.032773</td>\n",
       "      <td>1.022066</td>\n",
       "    </tr>\n",
       "    <tr>\n",
       "      <th>29</th>\n",
       "      <td>30</td>\n",
       "      <td>2.395044e+08</td>\n",
       "      <td>2.876903e+08</td>\n",
       "      <td>1.027387</td>\n",
       "      <td>1.041174</td>\n",
       "    </tr>\n",
       "    <tr>\n",
       "      <th>30</th>\n",
       "      <td>31</td>\n",
       "      <td>4.009781e+08</td>\n",
       "      <td>4.796616e+08</td>\n",
       "      <td>0.510122</td>\n",
       "      <td>0.495488</td>\n",
       "    </tr>\n",
       "  </tbody>\n",
       "</table>\n",
       "</div>"
      ],
      "text/plain": [
       "    day  total_purchase_amt  total_redeem_amt  purchase_weekday  \\\n",
       "0     1        3.077478e+08      2.342954e+08          1.032773   \n",
       "1     2        2.360455e+08      2.046623e+08          1.027387   \n",
       "2     3        2.639406e+08      2.701620e+08          0.978689   \n",
       "3     4        2.812749e+08      2.967544e+08          0.975370   \n",
       "4     5        3.098898e+08      2.734657e+08          0.979360   \n",
       "5     6        2.621696e+08      2.573507e+08          0.943881   \n",
       "6     7        2.470903e+08      2.122148e+08          1.069969   \n",
       "7     8        2.920145e+08      2.631591e+08          1.032773   \n",
       "8     9        2.860088e+08      2.416214e+08          1.027387   \n",
       "9    10        3.209334e+08      2.659731e+08          0.978689   \n",
       "10   11        2.641331e+08      2.632312e+08          0.975370   \n",
       "11   12        2.596092e+08      2.300672e+08          0.979360   \n",
       "12   13        2.418960e+08      2.768932e+08          0.943881   \n",
       "13   14        2.447552e+08      2.730458e+08          1.069969   \n",
       "14   15        2.880574e+08      2.227767e+08          1.032773   \n",
       "15   16        3.147933e+08      2.851300e+08          1.027387   \n",
       "16   17        2.452498e+08      2.879896e+08          0.978689   \n",
       "17   18        2.555834e+08      2.502844e+08          0.975370   \n",
       "18   19        2.742887e+08      2.348160e+08          0.979360   \n",
       "19   20        2.927542e+08      2.262982e+08          0.943881   \n",
       "20   21        2.629582e+08      2.678418e+08          1.069969   \n",
       "21   22        2.452554e+08      2.797465e+08          1.032773   \n",
       "22   23        2.340549e+08      2.668108e+08          1.027387   \n",
       "23   24        2.311506e+08      2.868221e+08          0.978689   \n",
       "24   25        2.345264e+08      3.118520e+08          0.975370   \n",
       "25   26        2.510533e+08      2.935839e+08          0.979360   \n",
       "26   27        2.465929e+08      3.230069e+08          0.943881   \n",
       "27   28        2.564081e+08      3.127398e+08          1.069969   \n",
       "28   29        2.528350e+08      2.856593e+08          1.032773   \n",
       "29   30        2.395044e+08      2.876903e+08          1.027387   \n",
       "30   31        4.009781e+08      4.796616e+08          0.510122   \n",
       "\n",
       "    redeem_weekday  \n",
       "0         1.022066  \n",
       "1         1.041174  \n",
       "2         0.938645  \n",
       "3         1.014169  \n",
       "4         0.967154  \n",
       "5         0.958556  \n",
       "6         1.068554  \n",
       "7         1.022066  \n",
       "8         1.041174  \n",
       "9         0.938645  \n",
       "10        1.014169  \n",
       "11        0.967154  \n",
       "12        0.958556  \n",
       "13        1.068554  \n",
       "14        1.022066  \n",
       "15        1.041174  \n",
       "16        0.938645  \n",
       "17        1.014169  \n",
       "18        0.967154  \n",
       "19        0.958556  \n",
       "20        1.068554  \n",
       "21        1.022066  \n",
       "22        1.041174  \n",
       "23        0.938645  \n",
       "24        1.014169  \n",
       "25        0.967154  \n",
       "26        0.958556  \n",
       "27        1.068554  \n",
       "28        1.022066  \n",
       "29        1.041174  \n",
       "30        0.495488  "
      ]
     },
     "execution_count": 146,
     "metadata": {},
     "output_type": "execute_result"
    }
   ],
   "source": [
    "# 计算一个朴素的month_day日期因子（朴素：不带有weekday周期因子的影响）\n",
    "\n",
    "day_base = pd.merge(day_mean, day_rate, on='day', how='left')\n",
    "\n",
    "\n",
    "# 周期因子是每周某星期的平均数/整体平均数，整体平均数起到归一化的作用\n",
    "# 周期因子代表每周某星期的申购或赎回相当于申购或赎回的整体平均数的倍数关系\n",
    "# 原total_purchase_amt是每月某号的申购的平均数，是带有周期因子作用的平均数\n",
    "# 原total_purchase_amt/purhcase_weekday是算每月某号的申购平均数相当于该号对于（周期因子加权平均*申购整体平均数之乘积）的倍数\n",
    "# 目的是为了去除掉周期因子加权的影响，算单纯的日期对于整体平均数的影响\n",
    "day_base['total_purchase_amt'] = day_base['total_purchase_amt'] / day_base['purchase_weekday']\n",
    "day_base['total_redeem_amt'] = day_base['total_redeem_amt'] / day_base['redeem_weekday']\n",
    "\n",
    "day_base"
   ]
  },
  {
   "cell_type": "code",
   "execution_count": 163,
   "id": "accessible-ivory",
   "metadata": {
    "ExecuteTime": {
     "end_time": "2021-10-24T20:47:14.175355Z",
     "start_time": "2021-10-24T20:47:14.160572Z"
    }
   },
   "outputs": [
    {
     "data": {
      "text/html": [
       "<div>\n",
       "<style scoped>\n",
       "    .dataframe tbody tr th:only-of-type {\n",
       "        vertical-align: middle;\n",
       "    }\n",
       "\n",
       "    .dataframe tbody tr th {\n",
       "        vertical-align: top;\n",
       "    }\n",
       "\n",
       "    .dataframe thead th {\n",
       "        text-align: right;\n",
       "    }\n",
       "</style>\n",
       "<table border=\"1\" class=\"dataframe\">\n",
       "  <thead>\n",
       "    <tr style=\"text-align: right;\">\n",
       "      <th></th>\n",
       "      <th>report_date</th>\n",
       "      <th>purchase</th>\n",
       "      <th>redeem</th>\n",
       "      <th>day</th>\n",
       "      <th>weekday</th>\n",
       "    </tr>\n",
       "  </thead>\n",
       "  <tbody>\n",
       "    <tr>\n",
       "      <th>0</th>\n",
       "      <td>2014-09-01</td>\n",
       "      <td>NaN</td>\n",
       "      <td>NaN</td>\n",
       "      <td>1</td>\n",
       "      <td>0</td>\n",
       "    </tr>\n",
       "    <tr>\n",
       "      <th>1</th>\n",
       "      <td>2014-09-02</td>\n",
       "      <td>NaN</td>\n",
       "      <td>NaN</td>\n",
       "      <td>2</td>\n",
       "      <td>1</td>\n",
       "    </tr>\n",
       "    <tr>\n",
       "      <th>2</th>\n",
       "      <td>2014-09-03</td>\n",
       "      <td>NaN</td>\n",
       "      <td>NaN</td>\n",
       "      <td>3</td>\n",
       "      <td>2</td>\n",
       "    </tr>\n",
       "    <tr>\n",
       "      <th>3</th>\n",
       "      <td>2014-09-04</td>\n",
       "      <td>NaN</td>\n",
       "      <td>NaN</td>\n",
       "      <td>4</td>\n",
       "      <td>3</td>\n",
       "    </tr>\n",
       "    <tr>\n",
       "      <th>4</th>\n",
       "      <td>2014-09-05</td>\n",
       "      <td>NaN</td>\n",
       "      <td>NaN</td>\n",
       "      <td>5</td>\n",
       "      <td>4</td>\n",
       "    </tr>\n",
       "  </tbody>\n",
       "</table>\n",
       "</div>"
      ],
      "text/plain": [
       "  report_date  purchase  redeem  day  weekday\n",
       "0  2014-09-01       NaN     NaN    1        0\n",
       "1  2014-09-02       NaN     NaN    2        1\n",
       "2  2014-09-03       NaN     NaN    3        2\n",
       "3  2014-09-04       NaN     NaN    4        3\n",
       "4  2014-09-05       NaN     NaN    5        4"
      ]
     },
     "execution_count": 163,
     "metadata": {},
     "output_type": "execute_result"
    }
   ],
   "source": [
    "# day_base['total_purchase_amt'] \n",
    "import datetime\n",
    "\n",
    "start = datetime.datetime(2014,9,1)\n",
    "end  = datetime.datetime(2014,9,30)\n",
    "\n",
    "testdata = []\n",
    "for x in pd.date_range(start, end):\n",
    "    temp = [x, np.nan, np.nan]\n",
    "    testdata.append(temp)\n",
    "    \n",
    "testdata = pd.DataFrame(testdata, columns=['report_date', 'purchase', 'redeem'])\n",
    "testdata['day'] = testdata['report_date'].dt.day\n",
    "testdata['weekday'] = testdata['report_date'].dt.weekday\n",
    "testdata.head()"
   ]
  },
  {
   "cell_type": "code",
   "execution_count": 166,
   "id": "premier-popularity",
   "metadata": {
    "ExecuteTime": {
     "end_time": "2021-10-24T20:58:00.363876Z",
     "start_time": "2021-10-24T20:58:00.264732Z"
    }
   },
   "outputs": [
    {
     "data": {
      "text/html": [
       "<div>\n",
       "<style scoped>\n",
       "    .dataframe tbody tr th:only-of-type {\n",
       "        vertical-align: middle;\n",
       "    }\n",
       "\n",
       "    .dataframe tbody tr th {\n",
       "        vertical-align: top;\n",
       "    }\n",
       "\n",
       "    .dataframe thead th {\n",
       "        text-align: right;\n",
       "    }\n",
       "</style>\n",
       "<table border=\"1\" class=\"dataframe\">\n",
       "  <thead>\n",
       "    <tr style=\"text-align: right;\">\n",
       "      <th></th>\n",
       "      <th>report_date</th>\n",
       "      <th>purchase</th>\n",
       "      <th>redeem</th>\n",
       "      <th>day</th>\n",
       "      <th>weekday</th>\n",
       "    </tr>\n",
       "  </thead>\n",
       "  <tbody>\n",
       "    <tr>\n",
       "      <th>0</th>\n",
       "      <td>20140901</td>\n",
       "      <td>3.580481e+08</td>\n",
       "      <td>2.874801e+08</td>\n",
       "      <td>1</td>\n",
       "      <td>0</td>\n",
       "    </tr>\n",
       "    <tr>\n",
       "      <th>1</th>\n",
       "      <td>20140902</td>\n",
       "      <td>2.833728e+08</td>\n",
       "      <td>2.411514e+08</td>\n",
       "      <td>2</td>\n",
       "      <td>1</td>\n",
       "    </tr>\n",
       "    <tr>\n",
       "      <th>2</th>\n",
       "      <td>20140903</td>\n",
       "      <td>3.128646e+08</td>\n",
       "      <td>3.119789e+08</td>\n",
       "      <td>3</td>\n",
       "      <td>2</td>\n",
       "    </tr>\n",
       "    <tr>\n",
       "      <th>3</th>\n",
       "      <td>20140904</td>\n",
       "      <td>3.213105e+08</td>\n",
       "      <td>3.078816e+08</td>\n",
       "      <td>4</td>\n",
       "      <td>3</td>\n",
       "    </tr>\n",
       "    <tr>\n",
       "      <th>4</th>\n",
       "      <td>20140905</td>\n",
       "      <td>2.812294e+08</td>\n",
       "      <td>2.660293e+08</td>\n",
       "      <td>5</td>\n",
       "      <td>4</td>\n",
       "    </tr>\n",
       "  </tbody>\n",
       "</table>\n",
       "</div>"
      ],
      "text/plain": [
       "  report_date      purchase        redeem  day  weekday\n",
       "0    20140901  3.580481e+08  2.874801e+08    1        0\n",
       "1    20140902  2.833728e+08  2.411514e+08    2        1\n",
       "2    20140903  3.128646e+08  3.119789e+08    3        2\n",
       "3    20140904  3.213105e+08  3.078816e+08    4        3\n",
       "4    20140905  2.812294e+08  2.660293e+08    5        4"
      ]
     },
     "execution_count": 166,
     "metadata": {},
     "output_type": "execute_result"
    }
   ],
   "source": [
    "for index, row in testdata.iterrows():\n",
    "    # 找到每月某号的朴素日期因子（作为base）\n",
    "    base = day_base[day_base['day'] == row['day']]['total_purchase_amt'].iloc[0]\n",
    "    # 找到该号对应的周期因子\n",
    "    weekday_factor = weekday_weight[weekday_weight['weekday'] == row['weekday']]['purchase_weekday'].iloc[0]\n",
    "    # 使用 base * weekday factor （叠加日期和周期双重影响）作为预测值\n",
    "    testdata.loc[index, 'purchase'] = base * weekday_factor\n",
    "    \n",
    "    base = day_base[day_base['day'] == row['day']]['total_redeem_amt'].iloc[0]\n",
    "    weekday_factor = weekday_weight[weekday_weight['weekday'] == row['weekday']]['redeem_weekday'].iloc[0]\n",
    "    testdata.loc[index, 'redeem'] = base * weekday_factor\n",
    "\n",
    "testdata['report_date'] = testdata['report_date'].apply(lambda x: str(x).replace('-','')[0:8])\n",
    "testdata.head()"
   ]
  },
  {
   "cell_type": "code",
   "execution_count": null,
   "id": "functioning-austin",
   "metadata": {},
   "outputs": [],
   "source": [
    "# testdata[['report_date', 'purchase', 'redeem']].to_csv('baseline_weekday.csv', header=None, index=False)"
   ]
  },
  {
   "cell_type": "markdown",
   "id": "alpine-kingston",
   "metadata": {},
   "source": [
    "## => Ultilising Weekly & Monthly Pattern: online score = 118.1111"
   ]
  },
  {
   "cell_type": "markdown",
   "id": "conscious-sleeve",
   "metadata": {},
   "source": [
    "# Exploratory Data Analysis"
   ]
  },
  {
   "cell_type": "code",
   "execution_count": null,
   "id": "widespread-jacob",
   "metadata": {},
   "outputs": [],
   "source": []
  }
 ],
 "metadata": {
  "kernelspec": {
   "display_name": "Python 3",
   "language": "python",
   "name": "python3"
  },
  "language_info": {
   "codemirror_mode": {
    "name": "ipython",
    "version": 3
   },
   "file_extension": ".py",
   "mimetype": "text/x-python",
   "name": "python",
   "nbconvert_exporter": "python",
   "pygments_lexer": "ipython3",
   "version": "3.8.5"
  }
 },
 "nbformat": 4,
 "nbformat_minor": 5
}
